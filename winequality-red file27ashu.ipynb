{
 "cells": [
  {
   "cell_type": "code",
   "execution_count": 1,
   "id": "41b774cc",
   "metadata": {},
   "outputs": [],
   "source": [
    "import numpy as np\n",
    "import pandas as pd\n",
    "import seaborn as sns\n",
    "from sklearn.model_selection import train_test_split\n",
    "from sklearn.preprocessing import StandardScaler\n",
    "from sklearn.metrics import mean_absolute_error\n",
    "from sklearn.metrics import accuracy_score\n",
    "from sklearn.metrics import average_precision_score\n",
    "from sklearn.metrics import confusion_matrix\n",
    "from sklearn.tree import DecisionTreeClassifier\n",
    "from sklearn.ensemble import RandomForestClassifier\n",
    "from sklearn.neighbors import KNeighborsClassifier\n",
    "from sklearn.metrics import mean_absolute_error\n",
    "from sklearn.model_selection import cross_val_score\n",
    "from sklearn.model_selection import validation_curve\n",
    "from sklearn.model_selection import GridSearchCV\n",
    "import matplotlib.pyplot as pl\n",
    "%matplotlib inline"
   ]
  },
  {
   "cell_type": "markdown",
   "id": "b4a9380f",
   "metadata": {},
   "source": [
    "# Load dataset"
   ]
  },
  {
   "cell_type": "code",
   "execution_count": 2,
   "id": "96312480",
   "metadata": {},
   "outputs": [],
   "source": [
    "data = pd.read_csv(r\"C:\\Users\\Ashwini\\Documents\\winequality-red.csv\")"
   ]
  },
  {
   "cell_type": "markdown",
   "id": "b667f3b9",
   "metadata": {},
   "source": [
    "# Data exploration"
   ]
  },
  {
   "cell_type": "markdown",
   "id": "c11df1b8",
   "metadata": {},
   "source": [
    "Then I'll explore the dataset using different functions such as: head(), describe(). This step is important, because it helps me to look at and understand the dataset."
   ]
  },
  {
   "cell_type": "code",
   "execution_count": 3,
   "id": "0cc86295",
   "metadata": {},
   "outputs": [
    {
     "data": {
      "text/html": [
       "<div>\n",
       "<style scoped>\n",
       "    .dataframe tbody tr th:only-of-type {\n",
       "        vertical-align: middle;\n",
       "    }\n",
       "\n",
       "    .dataframe tbody tr th {\n",
       "        vertical-align: top;\n",
       "    }\n",
       "\n",
       "    .dataframe thead th {\n",
       "        text-align: right;\n",
       "    }\n",
       "</style>\n",
       "<table border=\"1\" class=\"dataframe\">\n",
       "  <thead>\n",
       "    <tr style=\"text-align: right;\">\n",
       "      <th></th>\n",
       "      <th>fixed acidity</th>\n",
       "      <th>volatile acidity</th>\n",
       "      <th>citric acid</th>\n",
       "      <th>residual sugar</th>\n",
       "      <th>chlorides</th>\n",
       "      <th>free sulfur dioxide</th>\n",
       "      <th>total sulfur dioxide</th>\n",
       "      <th>density</th>\n",
       "      <th>pH</th>\n",
       "      <th>sulphates</th>\n",
       "      <th>alcohol</th>\n",
       "      <th>quality</th>\n",
       "    </tr>\n",
       "  </thead>\n",
       "  <tbody>\n",
       "    <tr>\n",
       "      <th>0</th>\n",
       "      <td>7.4</td>\n",
       "      <td>0.700</td>\n",
       "      <td>0.00</td>\n",
       "      <td>1.9</td>\n",
       "      <td>0.076</td>\n",
       "      <td>11.0</td>\n",
       "      <td>34.0</td>\n",
       "      <td>0.99780</td>\n",
       "      <td>3.51</td>\n",
       "      <td>0.56</td>\n",
       "      <td>9.4</td>\n",
       "      <td>5</td>\n",
       "    </tr>\n",
       "    <tr>\n",
       "      <th>1</th>\n",
       "      <td>7.8</td>\n",
       "      <td>0.880</td>\n",
       "      <td>0.00</td>\n",
       "      <td>2.6</td>\n",
       "      <td>0.098</td>\n",
       "      <td>25.0</td>\n",
       "      <td>67.0</td>\n",
       "      <td>0.99680</td>\n",
       "      <td>3.20</td>\n",
       "      <td>0.68</td>\n",
       "      <td>9.8</td>\n",
       "      <td>5</td>\n",
       "    </tr>\n",
       "    <tr>\n",
       "      <th>2</th>\n",
       "      <td>7.8</td>\n",
       "      <td>0.760</td>\n",
       "      <td>0.04</td>\n",
       "      <td>2.3</td>\n",
       "      <td>0.092</td>\n",
       "      <td>15.0</td>\n",
       "      <td>54.0</td>\n",
       "      <td>0.99700</td>\n",
       "      <td>3.26</td>\n",
       "      <td>0.65</td>\n",
       "      <td>9.8</td>\n",
       "      <td>5</td>\n",
       "    </tr>\n",
       "    <tr>\n",
       "      <th>3</th>\n",
       "      <td>11.2</td>\n",
       "      <td>0.280</td>\n",
       "      <td>0.56</td>\n",
       "      <td>1.9</td>\n",
       "      <td>0.075</td>\n",
       "      <td>17.0</td>\n",
       "      <td>60.0</td>\n",
       "      <td>0.99800</td>\n",
       "      <td>3.16</td>\n",
       "      <td>0.58</td>\n",
       "      <td>9.8</td>\n",
       "      <td>6</td>\n",
       "    </tr>\n",
       "    <tr>\n",
       "      <th>4</th>\n",
       "      <td>7.4</td>\n",
       "      <td>0.700</td>\n",
       "      <td>0.00</td>\n",
       "      <td>1.9</td>\n",
       "      <td>0.076</td>\n",
       "      <td>11.0</td>\n",
       "      <td>34.0</td>\n",
       "      <td>0.99780</td>\n",
       "      <td>3.51</td>\n",
       "      <td>0.56</td>\n",
       "      <td>9.4</td>\n",
       "      <td>5</td>\n",
       "    </tr>\n",
       "    <tr>\n",
       "      <th>...</th>\n",
       "      <td>...</td>\n",
       "      <td>...</td>\n",
       "      <td>...</td>\n",
       "      <td>...</td>\n",
       "      <td>...</td>\n",
       "      <td>...</td>\n",
       "      <td>...</td>\n",
       "      <td>...</td>\n",
       "      <td>...</td>\n",
       "      <td>...</td>\n",
       "      <td>...</td>\n",
       "      <td>...</td>\n",
       "    </tr>\n",
       "    <tr>\n",
       "      <th>1594</th>\n",
       "      <td>6.2</td>\n",
       "      <td>0.600</td>\n",
       "      <td>0.08</td>\n",
       "      <td>2.0</td>\n",
       "      <td>0.090</td>\n",
       "      <td>32.0</td>\n",
       "      <td>44.0</td>\n",
       "      <td>0.99490</td>\n",
       "      <td>3.45</td>\n",
       "      <td>0.58</td>\n",
       "      <td>10.5</td>\n",
       "      <td>5</td>\n",
       "    </tr>\n",
       "    <tr>\n",
       "      <th>1595</th>\n",
       "      <td>5.9</td>\n",
       "      <td>0.550</td>\n",
       "      <td>0.10</td>\n",
       "      <td>2.2</td>\n",
       "      <td>0.062</td>\n",
       "      <td>39.0</td>\n",
       "      <td>51.0</td>\n",
       "      <td>0.99512</td>\n",
       "      <td>3.52</td>\n",
       "      <td>0.76</td>\n",
       "      <td>11.2</td>\n",
       "      <td>6</td>\n",
       "    </tr>\n",
       "    <tr>\n",
       "      <th>1596</th>\n",
       "      <td>6.3</td>\n",
       "      <td>0.510</td>\n",
       "      <td>0.13</td>\n",
       "      <td>2.3</td>\n",
       "      <td>0.076</td>\n",
       "      <td>29.0</td>\n",
       "      <td>40.0</td>\n",
       "      <td>0.99574</td>\n",
       "      <td>3.42</td>\n",
       "      <td>0.75</td>\n",
       "      <td>11.0</td>\n",
       "      <td>6</td>\n",
       "    </tr>\n",
       "    <tr>\n",
       "      <th>1597</th>\n",
       "      <td>5.9</td>\n",
       "      <td>0.645</td>\n",
       "      <td>0.12</td>\n",
       "      <td>2.0</td>\n",
       "      <td>0.075</td>\n",
       "      <td>32.0</td>\n",
       "      <td>44.0</td>\n",
       "      <td>0.99547</td>\n",
       "      <td>3.57</td>\n",
       "      <td>0.71</td>\n",
       "      <td>10.2</td>\n",
       "      <td>5</td>\n",
       "    </tr>\n",
       "    <tr>\n",
       "      <th>1598</th>\n",
       "      <td>6.0</td>\n",
       "      <td>0.310</td>\n",
       "      <td>0.47</td>\n",
       "      <td>3.6</td>\n",
       "      <td>0.067</td>\n",
       "      <td>18.0</td>\n",
       "      <td>42.0</td>\n",
       "      <td>0.99549</td>\n",
       "      <td>3.39</td>\n",
       "      <td>0.66</td>\n",
       "      <td>11.0</td>\n",
       "      <td>6</td>\n",
       "    </tr>\n",
       "  </tbody>\n",
       "</table>\n",
       "<p>1599 rows × 12 columns</p>\n",
       "</div>"
      ],
      "text/plain": [
       "      fixed acidity  volatile acidity  citric acid  residual sugar  chlorides  \\\n",
       "0               7.4             0.700         0.00             1.9      0.076   \n",
       "1               7.8             0.880         0.00             2.6      0.098   \n",
       "2               7.8             0.760         0.04             2.3      0.092   \n",
       "3              11.2             0.280         0.56             1.9      0.075   \n",
       "4               7.4             0.700         0.00             1.9      0.076   \n",
       "...             ...               ...          ...             ...        ...   \n",
       "1594            6.2             0.600         0.08             2.0      0.090   \n",
       "1595            5.9             0.550         0.10             2.2      0.062   \n",
       "1596            6.3             0.510         0.13             2.3      0.076   \n",
       "1597            5.9             0.645         0.12             2.0      0.075   \n",
       "1598            6.0             0.310         0.47             3.6      0.067   \n",
       "\n",
       "      free sulfur dioxide  total sulfur dioxide  density    pH  sulphates  \\\n",
       "0                    11.0                  34.0  0.99780  3.51       0.56   \n",
       "1                    25.0                  67.0  0.99680  3.20       0.68   \n",
       "2                    15.0                  54.0  0.99700  3.26       0.65   \n",
       "3                    17.0                  60.0  0.99800  3.16       0.58   \n",
       "4                    11.0                  34.0  0.99780  3.51       0.56   \n",
       "...                   ...                   ...      ...   ...        ...   \n",
       "1594                 32.0                  44.0  0.99490  3.45       0.58   \n",
       "1595                 39.0                  51.0  0.99512  3.52       0.76   \n",
       "1596                 29.0                  40.0  0.99574  3.42       0.75   \n",
       "1597                 32.0                  44.0  0.99547  3.57       0.71   \n",
       "1598                 18.0                  42.0  0.99549  3.39       0.66   \n",
       "\n",
       "      alcohol  quality  \n",
       "0         9.4        5  \n",
       "1         9.8        5  \n",
       "2         9.8        5  \n",
       "3         9.8        6  \n",
       "4         9.4        5  \n",
       "...       ...      ...  \n",
       "1594     10.5        5  \n",
       "1595     11.2        6  \n",
       "1596     11.0        6  \n",
       "1597     10.2        5  \n",
       "1598     11.0        6  \n",
       "\n",
       "[1599 rows x 12 columns]"
      ]
     },
     "execution_count": 3,
     "metadata": {},
     "output_type": "execute_result"
    }
   ],
   "source": [
    "data"
   ]
  },
  {
   "cell_type": "code",
   "execution_count": 4,
   "id": "0c396adc",
   "metadata": {},
   "outputs": [
    {
     "data": {
      "text/html": [
       "<div>\n",
       "<style scoped>\n",
       "    .dataframe tbody tr th:only-of-type {\n",
       "        vertical-align: middle;\n",
       "    }\n",
       "\n",
       "    .dataframe tbody tr th {\n",
       "        vertical-align: top;\n",
       "    }\n",
       "\n",
       "    .dataframe thead th {\n",
       "        text-align: right;\n",
       "    }\n",
       "</style>\n",
       "<table border=\"1\" class=\"dataframe\">\n",
       "  <thead>\n",
       "    <tr style=\"text-align: right;\">\n",
       "      <th></th>\n",
       "      <th>fixed acidity</th>\n",
       "      <th>volatile acidity</th>\n",
       "      <th>citric acid</th>\n",
       "      <th>residual sugar</th>\n",
       "      <th>chlorides</th>\n",
       "      <th>free sulfur dioxide</th>\n",
       "      <th>total sulfur dioxide</th>\n",
       "      <th>density</th>\n",
       "      <th>pH</th>\n",
       "      <th>sulphates</th>\n",
       "      <th>alcohol</th>\n",
       "      <th>quality</th>\n",
       "    </tr>\n",
       "  </thead>\n",
       "  <tbody>\n",
       "    <tr>\n",
       "      <th>0</th>\n",
       "      <td>7.4</td>\n",
       "      <td>0.70</td>\n",
       "      <td>0.00</td>\n",
       "      <td>1.9</td>\n",
       "      <td>0.076</td>\n",
       "      <td>11.0</td>\n",
       "      <td>34.0</td>\n",
       "      <td>0.9978</td>\n",
       "      <td>3.51</td>\n",
       "      <td>0.56</td>\n",
       "      <td>9.4</td>\n",
       "      <td>5</td>\n",
       "    </tr>\n",
       "    <tr>\n",
       "      <th>1</th>\n",
       "      <td>7.8</td>\n",
       "      <td>0.88</td>\n",
       "      <td>0.00</td>\n",
       "      <td>2.6</td>\n",
       "      <td>0.098</td>\n",
       "      <td>25.0</td>\n",
       "      <td>67.0</td>\n",
       "      <td>0.9968</td>\n",
       "      <td>3.20</td>\n",
       "      <td>0.68</td>\n",
       "      <td>9.8</td>\n",
       "      <td>5</td>\n",
       "    </tr>\n",
       "    <tr>\n",
       "      <th>2</th>\n",
       "      <td>7.8</td>\n",
       "      <td>0.76</td>\n",
       "      <td>0.04</td>\n",
       "      <td>2.3</td>\n",
       "      <td>0.092</td>\n",
       "      <td>15.0</td>\n",
       "      <td>54.0</td>\n",
       "      <td>0.9970</td>\n",
       "      <td>3.26</td>\n",
       "      <td>0.65</td>\n",
       "      <td>9.8</td>\n",
       "      <td>5</td>\n",
       "    </tr>\n",
       "    <tr>\n",
       "      <th>3</th>\n",
       "      <td>11.2</td>\n",
       "      <td>0.28</td>\n",
       "      <td>0.56</td>\n",
       "      <td>1.9</td>\n",
       "      <td>0.075</td>\n",
       "      <td>17.0</td>\n",
       "      <td>60.0</td>\n",
       "      <td>0.9980</td>\n",
       "      <td>3.16</td>\n",
       "      <td>0.58</td>\n",
       "      <td>9.8</td>\n",
       "      <td>6</td>\n",
       "    </tr>\n",
       "    <tr>\n",
       "      <th>4</th>\n",
       "      <td>7.4</td>\n",
       "      <td>0.70</td>\n",
       "      <td>0.00</td>\n",
       "      <td>1.9</td>\n",
       "      <td>0.076</td>\n",
       "      <td>11.0</td>\n",
       "      <td>34.0</td>\n",
       "      <td>0.9978</td>\n",
       "      <td>3.51</td>\n",
       "      <td>0.56</td>\n",
       "      <td>9.4</td>\n",
       "      <td>5</td>\n",
       "    </tr>\n",
       "  </tbody>\n",
       "</table>\n",
       "</div>"
      ],
      "text/plain": [
       "   fixed acidity  volatile acidity  citric acid  residual sugar  chlorides  \\\n",
       "0            7.4              0.70         0.00             1.9      0.076   \n",
       "1            7.8              0.88         0.00             2.6      0.098   \n",
       "2            7.8              0.76         0.04             2.3      0.092   \n",
       "3           11.2              0.28         0.56             1.9      0.075   \n",
       "4            7.4              0.70         0.00             1.9      0.076   \n",
       "\n",
       "   free sulfur dioxide  total sulfur dioxide  density    pH  sulphates  \\\n",
       "0                 11.0                  34.0   0.9978  3.51       0.56   \n",
       "1                 25.0                  67.0   0.9968  3.20       0.68   \n",
       "2                 15.0                  54.0   0.9970  3.26       0.65   \n",
       "3                 17.0                  60.0   0.9980  3.16       0.58   \n",
       "4                 11.0                  34.0   0.9978  3.51       0.56   \n",
       "\n",
       "   alcohol  quality  \n",
       "0      9.4        5  \n",
       "1      9.8        5  \n",
       "2      9.8        5  \n",
       "3      9.8        6  \n",
       "4      9.4        5  "
      ]
     },
     "execution_count": 4,
     "metadata": {},
     "output_type": "execute_result"
    }
   ],
   "source": [
    "data.head()"
   ]
  },
  {
   "cell_type": "code",
   "execution_count": 5,
   "id": "ed8fe609",
   "metadata": {},
   "outputs": [
    {
     "data": {
      "text/html": [
       "<div>\n",
       "<style scoped>\n",
       "    .dataframe tbody tr th:only-of-type {\n",
       "        vertical-align: middle;\n",
       "    }\n",
       "\n",
       "    .dataframe tbody tr th {\n",
       "        vertical-align: top;\n",
       "    }\n",
       "\n",
       "    .dataframe thead th {\n",
       "        text-align: right;\n",
       "    }\n",
       "</style>\n",
       "<table border=\"1\" class=\"dataframe\">\n",
       "  <thead>\n",
       "    <tr style=\"text-align: right;\">\n",
       "      <th></th>\n",
       "      <th>fixed acidity</th>\n",
       "      <th>volatile acidity</th>\n",
       "      <th>citric acid</th>\n",
       "      <th>residual sugar</th>\n",
       "      <th>chlorides</th>\n",
       "      <th>free sulfur dioxide</th>\n",
       "      <th>total sulfur dioxide</th>\n",
       "      <th>density</th>\n",
       "      <th>pH</th>\n",
       "      <th>sulphates</th>\n",
       "      <th>alcohol</th>\n",
       "      <th>quality</th>\n",
       "    </tr>\n",
       "  </thead>\n",
       "  <tbody>\n",
       "    <tr>\n",
       "      <th>count</th>\n",
       "      <td>1599.000000</td>\n",
       "      <td>1599.000000</td>\n",
       "      <td>1599.000000</td>\n",
       "      <td>1599.000000</td>\n",
       "      <td>1599.000000</td>\n",
       "      <td>1599.000000</td>\n",
       "      <td>1599.000000</td>\n",
       "      <td>1599.000000</td>\n",
       "      <td>1599.000000</td>\n",
       "      <td>1599.000000</td>\n",
       "      <td>1599.000000</td>\n",
       "      <td>1599.000000</td>\n",
       "    </tr>\n",
       "    <tr>\n",
       "      <th>mean</th>\n",
       "      <td>8.319637</td>\n",
       "      <td>0.527821</td>\n",
       "      <td>0.270976</td>\n",
       "      <td>2.538806</td>\n",
       "      <td>0.087467</td>\n",
       "      <td>15.874922</td>\n",
       "      <td>46.467792</td>\n",
       "      <td>0.996747</td>\n",
       "      <td>3.311113</td>\n",
       "      <td>0.658149</td>\n",
       "      <td>10.422983</td>\n",
       "      <td>5.636023</td>\n",
       "    </tr>\n",
       "    <tr>\n",
       "      <th>std</th>\n",
       "      <td>1.741096</td>\n",
       "      <td>0.179060</td>\n",
       "      <td>0.194801</td>\n",
       "      <td>1.409928</td>\n",
       "      <td>0.047065</td>\n",
       "      <td>10.460157</td>\n",
       "      <td>32.895324</td>\n",
       "      <td>0.001887</td>\n",
       "      <td>0.154386</td>\n",
       "      <td>0.169507</td>\n",
       "      <td>1.065668</td>\n",
       "      <td>0.807569</td>\n",
       "    </tr>\n",
       "    <tr>\n",
       "      <th>min</th>\n",
       "      <td>4.600000</td>\n",
       "      <td>0.120000</td>\n",
       "      <td>0.000000</td>\n",
       "      <td>0.900000</td>\n",
       "      <td>0.012000</td>\n",
       "      <td>1.000000</td>\n",
       "      <td>6.000000</td>\n",
       "      <td>0.990070</td>\n",
       "      <td>2.740000</td>\n",
       "      <td>0.330000</td>\n",
       "      <td>8.400000</td>\n",
       "      <td>3.000000</td>\n",
       "    </tr>\n",
       "    <tr>\n",
       "      <th>25%</th>\n",
       "      <td>7.100000</td>\n",
       "      <td>0.390000</td>\n",
       "      <td>0.090000</td>\n",
       "      <td>1.900000</td>\n",
       "      <td>0.070000</td>\n",
       "      <td>7.000000</td>\n",
       "      <td>22.000000</td>\n",
       "      <td>0.995600</td>\n",
       "      <td>3.210000</td>\n",
       "      <td>0.550000</td>\n",
       "      <td>9.500000</td>\n",
       "      <td>5.000000</td>\n",
       "    </tr>\n",
       "    <tr>\n",
       "      <th>50%</th>\n",
       "      <td>7.900000</td>\n",
       "      <td>0.520000</td>\n",
       "      <td>0.260000</td>\n",
       "      <td>2.200000</td>\n",
       "      <td>0.079000</td>\n",
       "      <td>14.000000</td>\n",
       "      <td>38.000000</td>\n",
       "      <td>0.996750</td>\n",
       "      <td>3.310000</td>\n",
       "      <td>0.620000</td>\n",
       "      <td>10.200000</td>\n",
       "      <td>6.000000</td>\n",
       "    </tr>\n",
       "    <tr>\n",
       "      <th>75%</th>\n",
       "      <td>9.200000</td>\n",
       "      <td>0.640000</td>\n",
       "      <td>0.420000</td>\n",
       "      <td>2.600000</td>\n",
       "      <td>0.090000</td>\n",
       "      <td>21.000000</td>\n",
       "      <td>62.000000</td>\n",
       "      <td>0.997835</td>\n",
       "      <td>3.400000</td>\n",
       "      <td>0.730000</td>\n",
       "      <td>11.100000</td>\n",
       "      <td>6.000000</td>\n",
       "    </tr>\n",
       "    <tr>\n",
       "      <th>max</th>\n",
       "      <td>15.900000</td>\n",
       "      <td>1.580000</td>\n",
       "      <td>1.000000</td>\n",
       "      <td>15.500000</td>\n",
       "      <td>0.611000</td>\n",
       "      <td>72.000000</td>\n",
       "      <td>289.000000</td>\n",
       "      <td>1.003690</td>\n",
       "      <td>4.010000</td>\n",
       "      <td>2.000000</td>\n",
       "      <td>14.900000</td>\n",
       "      <td>8.000000</td>\n",
       "    </tr>\n",
       "  </tbody>\n",
       "</table>\n",
       "</div>"
      ],
      "text/plain": [
       "       fixed acidity  volatile acidity  citric acid  residual sugar  \\\n",
       "count    1599.000000       1599.000000  1599.000000     1599.000000   \n",
       "mean        8.319637          0.527821     0.270976        2.538806   \n",
       "std         1.741096          0.179060     0.194801        1.409928   \n",
       "min         4.600000          0.120000     0.000000        0.900000   \n",
       "25%         7.100000          0.390000     0.090000        1.900000   \n",
       "50%         7.900000          0.520000     0.260000        2.200000   \n",
       "75%         9.200000          0.640000     0.420000        2.600000   \n",
       "max        15.900000          1.580000     1.000000       15.500000   \n",
       "\n",
       "         chlorides  free sulfur dioxide  total sulfur dioxide      density  \\\n",
       "count  1599.000000          1599.000000           1599.000000  1599.000000   \n",
       "mean      0.087467            15.874922             46.467792     0.996747   \n",
       "std       0.047065            10.460157             32.895324     0.001887   \n",
       "min       0.012000             1.000000              6.000000     0.990070   \n",
       "25%       0.070000             7.000000             22.000000     0.995600   \n",
       "50%       0.079000            14.000000             38.000000     0.996750   \n",
       "75%       0.090000            21.000000             62.000000     0.997835   \n",
       "max       0.611000            72.000000            289.000000     1.003690   \n",
       "\n",
       "                pH    sulphates      alcohol      quality  \n",
       "count  1599.000000  1599.000000  1599.000000  1599.000000  \n",
       "mean      3.311113     0.658149    10.422983     5.636023  \n",
       "std       0.154386     0.169507     1.065668     0.807569  \n",
       "min       2.740000     0.330000     8.400000     3.000000  \n",
       "25%       3.210000     0.550000     9.500000     5.000000  \n",
       "50%       3.310000     0.620000    10.200000     6.000000  \n",
       "75%       3.400000     0.730000    11.100000     6.000000  \n",
       "max       4.010000     2.000000    14.900000     8.000000  "
      ]
     },
     "execution_count": 5,
     "metadata": {},
     "output_type": "execute_result"
    }
   ],
   "source": [
    "# Generate descriptive statistics \n",
    "data.describe()"
   ]
  },
  {
   "cell_type": "code",
   "execution_count": 53,
   "id": "535d4d3f",
   "metadata": {},
   "outputs": [
    {
     "name": "stdout",
     "output_type": "stream",
     "text": [
      "<class 'pandas.core.frame.DataFrame'>\n",
      "RangeIndex: 1599 entries, 0 to 1598\n",
      "Data columns (total 12 columns):\n",
      " #   Column                Non-Null Count  Dtype  \n",
      "---  ------                --------------  -----  \n",
      " 0   fixed acidity         1599 non-null   float64\n",
      " 1   volatile acidity      1599 non-null   float64\n",
      " 2   citric acid           1599 non-null   float64\n",
      " 3   residual sugar        1599 non-null   float64\n",
      " 4   chlorides             1599 non-null   float64\n",
      " 5   free sulfur dioxide   1599 non-null   float64\n",
      " 6   total sulfur dioxide  1599 non-null   float64\n",
      " 7   density               1599 non-null   float64\n",
      " 8   pH                    1599 non-null   float64\n",
      " 9   sulphates             1599 non-null   float64\n",
      " 10  alcohol               1599 non-null   float64\n",
      " 11  quality               1599 non-null   int64  \n",
      "dtypes: float64(11), int64(1)\n",
      "memory usage: 150.0 KB\n"
     ]
    }
   ],
   "source": [
    "data.info()"
   ]
  },
  {
   "cell_type": "markdown",
   "id": "2c386631",
   "metadata": {},
   "source": [
    "Data has only float and integer values\n",
    "\n",
    "No variable column has null/missing values\n",
    "\n",
    "we notice the data is clean without any null values"
   ]
  },
  {
   "cell_type": "markdown",
   "id": "bde02ec3",
   "metadata": {},
   "source": [
    "# Exploratory data analysis"
   ]
  },
  {
   "cell_type": "markdown",
   "id": "af0867b3",
   "metadata": {},
   "source": [
    "EDA is the process where I'll look at and understand the data with statistical and visualization methods. This step will help me identifying patterns and problems in the dataset, as well as deciding which model or algorithm to use."
   ]
  },
  {
   "cell_type": "markdown",
   "id": "05dc01da",
   "metadata": {},
   "source": [
    "# Boxplot"
   ]
  },
  {
   "cell_type": "markdown",
   "id": "75648ab8",
   "metadata": {},
   "source": [
    "First , I'll use the plot() function to create boxplots. This helps me detect if there are any outliers. Outliers can spoil and mislead the training process resulting in longer training times, less accurate models and ultimately poorer results. In the generated boxplots it is clear that: volatile acidity, citric acid and total sulfur dioxide have some outliers."
   ]
  },
  {
   "cell_type": "code",
   "execution_count": 6,
   "id": "3fef19c5",
   "metadata": {},
   "outputs": [
    {
     "data": {
      "image/png": "[encoded data removed]",
      "text/plain": [
       "<Figure size 1080x1440 with 12 Axes>"
      ]
     },
     "metadata": {
      "needs_background": "light"
     },
     "output_type": "display_data"
    }
   ],
   "source": [
    "# Show a set of boxplots\n",
    "data.plot(kind='box', subplots=True, layout=(2,6), figsize=(15,20));"
   ]
  },
  {
   "cell_type": "markdown",
   "id": "f4efc09c",
   "metadata": {},
   "source": [
    "# Countplot"
   ]
  },
  {
   "cell_type": "markdown",
   "id": "d8110360",
   "metadata": {},
   "source": [
    "Secondly I'll use the countplot() function to create a countplot of the quality variable. I can clearly see that the quality goes from 3 to 8, also the majority is between 5 and 6. During the data exploration(cf. 1.3) I've used the describe() function which gave me a mean of 5.636023, by rounding up the float to an integer I'll use 6 as the mean."
   ]
  },
  {
   "cell_type": "code",
   "execution_count": 8,
   "id": "3dc929b4",
   "metadata": {},
   "outputs": [
    {
     "data": {
      "text/plain": [
       "<AxesSubplot:xlabel='quality', ylabel='count'>"
      ]
     },
     "execution_count": 8,
     "metadata": {},
     "output_type": "execute_result"
    },
    {
     "data": {
      "image/png": "[encoded data removed]",
      "text/plain": [
       "<Figure size 432x288 with 1 Axes>"
      ]
     },
     "metadata": {
      "needs_background": "light"
     },
     "output_type": "display_data"
    }
   ],
   "source": [
    "# Show the counts of observations\n",
    "sns.countplot(x= data['quality'], palette='Blues')"
   ]
  },
  {
   "cell_type": "markdown",
   "id": "64213eb1",
   "metadata": {},
   "source": [
    "# Correlation heatmap"
   ]
  },
  {
   "cell_type": "markdown",
   "id": "242087d2",
   "metadata": {},
   "source": [
    "Then I'll use the heatmap() function to create a correlation matrix. The most important things that I can deduce from the correlation matrix, which have an impact on quality, is:\n",
    "\n"
   ]
  },
  {
   "cell_type": "markdown",
   "id": "9a2d856c",
   "metadata": {},
   "source": [
    "1)Positive correlation between alcohol and quality\n",
    "\n",
    "\n",
    "2)Negative correlation between volatile acidity and quality\n"
   ]
  },
  {
   "cell_type": "code",
   "execution_count": 9,
   "id": "28fdbdbe",
   "metadata": {},
   "outputs": [
    {
     "data": {
      "text/plain": [
       "<AxesSubplot:>"
      ]
     },
     "execution_count": 9,
     "metadata": {},
     "output_type": "execute_result"
    },
    {
     "data": {
      "image/png": "[encoded data removed]",
      "text/plain": [
       "<Figure size 864x576 with 2 Axes>"
      ]
     },
     "metadata": {
      "needs_background": "light"
     },
     "output_type": "display_data"
    }
   ],
   "source": [
    "pl.figure(figsize=(12, 8))\n",
    "sns.heatmap(data.corr(), annot=True, vmin=-1.0, vmax=1.0, cmap='Blues')"
   ]
  },
  {
   "cell_type": "code",
   "execution_count": 54,
   "id": "56d5bc07",
   "metadata": {},
   "outputs": [
    {
     "data": {
      "text/html": [
       "<style  type=\"text/css\" >\n",
       "#T_ad1fe_row0_col0,#T_ad1fe_row1_col1,#T_ad1fe_row2_col2,#T_ad1fe_row3_col3,#T_ad1fe_row4_col4,#T_ad1fe_row5_col5,#T_ad1fe_row6_col6,#T_ad1fe_row7_col7,#T_ad1fe_row8_col8,#T_ad1fe_row9_col9,#T_ad1fe_row10_col10,#T_ad1fe_row11_col11{\n",
       "            background-color:  #b40426;\n",
       "            color:  #f1f1f1;\n",
       "        }#T_ad1fe_row0_col1,#T_ad1fe_row4_col11,#T_ad1fe_row9_col1{\n",
       "            background-color:  #779af7;\n",
       "            color:  #000000;\n",
       "        }#T_ad1fe_row0_col2{\n",
       "            background-color:  #f08a6c;\n",
       "            color:  #000000;\n",
       "        }#T_ad1fe_row0_col3,#T_ad1fe_row4_col10{\n",
       "            background-color:  #7699f6;\n",
       "            color:  #000000;\n",
       "        }#T_ad1fe_row0_col4{\n",
       "            background-color:  #98b9ff;\n",
       "            color:  #000000;\n",
       "        }#T_ad1fe_row0_col5,#T_ad1fe_row0_col8,#T_ad1fe_row1_col2,#T_ad1fe_row1_col9,#T_ad1fe_row1_col11,#T_ad1fe_row2_col1,#T_ad1fe_row7_col10,#T_ad1fe_row8_col0,#T_ad1fe_row8_col3,#T_ad1fe_row8_col4,#T_ad1fe_row10_col6,#T_ad1fe_row10_col7{\n",
       "            background-color:  #3b4cc0;\n",
       "            color:  #f1f1f1;\n",
       "        }#T_ad1fe_row0_col6{\n",
       "            background-color:  #516ddb;\n",
       "            color:  #000000;\n",
       "        }#T_ad1fe_row0_col7{\n",
       "            background-color:  #f18d6f;\n",
       "            color:  #000000;\n",
       "        }#T_ad1fe_row0_col9,#T_ad1fe_row3_col8{\n",
       "            background-color:  #b1cbfc;\n",
       "            color:  #000000;\n",
       "        }#T_ad1fe_row0_col10,#T_ad1fe_row3_col11{\n",
       "            background-color:  #9bbcff;\n",
       "            color:  #000000;\n",
       "        }#T_ad1fe_row0_col11,#T_ad1fe_row2_col4,#T_ad1fe_row7_col1,#T_ad1fe_row7_col4,#T_ad1fe_row10_col0{\n",
       "            background-color:  #b6cefa;\n",
       "            color:  #000000;\n",
       "        }#T_ad1fe_row1_col0,#T_ad1fe_row3_col4,#T_ad1fe_row5_col3{\n",
       "            background-color:  #8db0fe;\n",
       "            color:  #000000;\n",
       "        }#T_ad1fe_row1_col3,#T_ad1fe_row2_col5{\n",
       "            background-color:  #536edd;\n",
       "            color:  #000000;\n",
       "        }#T_ad1fe_row1_col4{\n",
       "            background-color:  #90b2fe;\n",
       "            color:  #000000;\n",
       "        }#T_ad1fe_row1_col5{\n",
       "            background-color:  #6180e9;\n",
       "            color:  #000000;\n",
       "        }#T_ad1fe_row1_col6{\n",
       "            background-color:  #86a9fc;\n",
       "            color:  #000000;\n",
       "        }#T_ad1fe_row1_col7{\n",
       "            background-color:  #aec9fc;\n",
       "            color:  #000000;\n",
       "        }#T_ad1fe_row1_col8{\n",
       "            background-color:  #e8d6cc;\n",
       "            color:  #000000;\n",
       "        }#T_ad1fe_row1_col10{\n",
       "            background-color:  #7a9df8;\n",
       "            color:  #000000;\n",
       "        }#T_ad1fe_row2_col0{\n",
       "            background-color:  #ec8165;\n",
       "            color:  #000000;\n",
       "        }#T_ad1fe_row2_col3,#T_ad1fe_row3_col9,#T_ad1fe_row5_col4,#T_ad1fe_row11_col7{\n",
       "            background-color:  #80a3fa;\n",
       "            color:  #000000;\n",
       "        }#T_ad1fe_row2_col6,#T_ad1fe_row7_col8{\n",
       "            background-color:  #7b9ff9;\n",
       "            color:  #000000;\n",
       "        }#T_ad1fe_row2_col7{\n",
       "            background-color:  #eed0c0;\n",
       "            color:  #000000;\n",
       "        }#T_ad1fe_row2_col8,#T_ad1fe_row9_col3{\n",
       "            background-color:  #5470de;\n",
       "            color:  #000000;\n",
       "        }#T_ad1fe_row2_col9{\n",
       "            background-color:  #d1dae9;\n",
       "            color:  #000000;\n",
       "        }#T_ad1fe_row2_col10,#T_ad1fe_row6_col1,#T_ad1fe_row7_col3{\n",
       "            background-color:  #c1d4f4;\n",
       "            color:  #000000;\n",
       "        }#T_ad1fe_row2_col11{\n",
       "            background-color:  #cdd9ec;\n",
       "            color:  #000000;\n",
       "        }#T_ad1fe_row3_col0{\n",
       "            background-color:  #d6dce4;\n",
       "            color:  #000000;\n",
       "        }#T_ad1fe_row3_col1{\n",
       "            background-color:  #b2ccfb;\n",
       "            color:  #000000;\n",
       "        }#T_ad1fe_row3_col2,#T_ad1fe_row5_col8{\n",
       "            background-color:  #cedaeb;\n",
       "            color:  #000000;\n",
       "        }#T_ad1fe_row3_col5{\n",
       "            background-color:  #9dbdff;\n",
       "            color:  #000000;\n",
       "        }#T_ad1fe_row3_col6,#T_ad1fe_row6_col0{\n",
       "            background-color:  #abc8fd;\n",
       "            color:  #000000;\n",
       "        }#T_ad1fe_row3_col7{\n",
       "            background-color:  #edd2c3;\n",
       "            color:  #000000;\n",
       "        }#T_ad1fe_row3_col10{\n",
       "            background-color:  #b3cdfb;\n",
       "            color:  #000000;\n",
       "        }#T_ad1fe_row4_col0,#T_ad1fe_row9_col11{\n",
       "            background-color:  #d3dbe7;\n",
       "            color:  #000000;\n",
       "        }#T_ad1fe_row4_col1{\n",
       "            background-color:  #bfd3f6;\n",
       "            color:  #000000;\n",
       "        }#T_ad1fe_row4_col2{\n",
       "            background-color:  #d9dce1;\n",
       "            color:  #000000;\n",
       "        }#T_ad1fe_row4_col3{\n",
       "            background-color:  #6384eb;\n",
       "            color:  #000000;\n",
       "        }#T_ad1fe_row4_col5{\n",
       "            background-color:  #6687ed;\n",
       "            color:  #000000;\n",
       "        }#T_ad1fe_row4_col6{\n",
       "            background-color:  #7ea1fa;\n",
       "            color:  #000000;\n",
       "        }#T_ad1fe_row4_col7{\n",
       "            background-color:  #d4dbe6;\n",
       "            color:  #000000;\n",
       "        }#T_ad1fe_row4_col8,#T_ad1fe_row5_col9,#T_ad1fe_row6_col4{\n",
       "            background-color:  #8caffe;\n",
       "            color:  #000000;\n",
       "        }#T_ad1fe_row4_col9,#T_ad1fe_row9_col4,#T_ad1fe_row11_col2{\n",
       "            background-color:  #dddcdc;\n",
       "            color:  #000000;\n",
       "        }#T_ad1fe_row5_col0{\n",
       "            background-color:  #a3c2fe;\n",
       "            color:  #000000;\n",
       "        }#T_ad1fe_row5_col1{\n",
       "            background-color:  #afcafc;\n",
       "            color:  #000000;\n",
       "        }#T_ad1fe_row5_col2,#T_ad1fe_row5_col7{\n",
       "            background-color:  #a5c3fe;\n",
       "            color:  #000000;\n",
       "        }#T_ad1fe_row5_col6{\n",
       "            background-color:  #f6a385;\n",
       "            color:  #000000;\n",
       "        }#T_ad1fe_row5_col10,#T_ad1fe_row9_col8{\n",
       "            background-color:  #9abbff;\n",
       "            color:  #000000;\n",
       "        }#T_ad1fe_row5_col11{\n",
       "            background-color:  #8badfd;\n",
       "            color:  #000000;\n",
       "        }#T_ad1fe_row6_col2{\n",
       "            background-color:  #b9d0f9;\n",
       "            color:  #000000;\n",
       "        }#T_ad1fe_row6_col3{\n",
       "            background-color:  #93b5fe;\n",
       "            color:  #000000;\n",
       "        }#T_ad1fe_row6_col5{\n",
       "            background-color:  #f7a889;\n",
       "            color:  #000000;\n",
       "        }#T_ad1fe_row6_col7{\n",
       "            background-color:  #bad0f8;\n",
       "            color:  #000000;\n",
       "        }#T_ad1fe_row6_col8{\n",
       "            background-color:  #b5cdfa;\n",
       "            color:  #000000;\n",
       "        }#T_ad1fe_row6_col9,#T_ad1fe_row8_col11{\n",
       "            background-color:  #89acfd;\n",
       "            color:  #000000;\n",
       "        }#T_ad1fe_row6_col10,#T_ad1fe_row8_col5{\n",
       "            background-color:  #799cf8;\n",
       "            color:  #000000;\n",
       "        }#T_ad1fe_row6_col11{\n",
       "            background-color:  #688aef;\n",
       "            color:  #000000;\n",
       "        }#T_ad1fe_row7_col0{\n",
       "            background-color:  #ed8366;\n",
       "            color:  #000000;\n",
       "        }#T_ad1fe_row7_col2{\n",
       "            background-color:  #f1cdba;\n",
       "            color:  #000000;\n",
       "        }#T_ad1fe_row7_col5,#T_ad1fe_row8_col6{\n",
       "            background-color:  #5e7de7;\n",
       "            color:  #000000;\n",
       "        }#T_ad1fe_row7_col6{\n",
       "            background-color:  #85a8fc;\n",
       "            color:  #000000;\n",
       "        }#T_ad1fe_row7_col9{\n",
       "            background-color:  #a7c5fe;\n",
       "            color:  #000000;\n",
       "        }#T_ad1fe_row7_col11{\n",
       "            background-color:  #6b8df0;\n",
       "            color:  #000000;\n",
       "        }#T_ad1fe_row8_col1{\n",
       "            background-color:  #dedcdb;\n",
       "            color:  #000000;\n",
       "        }#T_ad1fe_row8_col2{\n",
       "            background-color:  #3c4ec2;\n",
       "            color:  #f1f1f1;\n",
       "        }#T_ad1fe_row8_col7,#T_ad1fe_row11_col1{\n",
       "            background-color:  #5a78e4;\n",
       "            color:  #000000;\n",
       "        }#T_ad1fe_row8_col9{\n",
       "            background-color:  #4a63d3;\n",
       "            color:  #f1f1f1;\n",
       "        }#T_ad1fe_row8_col10{\n",
       "            background-color:  #d5dbe5;\n",
       "            color:  #000000;\n",
       "        }#T_ad1fe_row9_col0{\n",
       "            background-color:  #e0dbd8;\n",
       "            color:  #000000;\n",
       "        }#T_ad1fe_row9_col2{\n",
       "            background-color:  #ead4c8;\n",
       "            color:  #000000;\n",
       "        }#T_ad1fe_row9_col5{\n",
       "            background-color:  #7396f5;\n",
       "            color:  #000000;\n",
       "        }#T_ad1fe_row9_col6{\n",
       "            background-color:  #7da0f9;\n",
       "            color:  #000000;\n",
       "        }#T_ad1fe_row9_col7{\n",
       "            background-color:  #cad8ef;\n",
       "            color:  #000000;\n",
       "        }#T_ad1fe_row9_col10{\n",
       "            background-color:  #bed2f6;\n",
       "            color:  #000000;\n",
       "        }#T_ad1fe_row10_col1{\n",
       "            background-color:  #84a7fc;\n",
       "            color:  #000000;\n",
       "        }#T_ad1fe_row10_col2{\n",
       "            background-color:  #c9d7f0;\n",
       "            color:  #000000;\n",
       "        }#T_ad1fe_row10_col3{\n",
       "            background-color:  #5f7fe8;\n",
       "            color:  #000000;\n",
       "        }#T_ad1fe_row10_col4{\n",
       "            background-color:  #445acc;\n",
       "            color:  #f1f1f1;\n",
       "        }#T_ad1fe_row10_col5{\n",
       "            background-color:  #506bda;\n",
       "            color:  #000000;\n",
       "        }#T_ad1fe_row10_col8{\n",
       "            background-color:  #e4d9d2;\n",
       "            color:  #000000;\n",
       "        }#T_ad1fe_row10_col9{\n",
       "            background-color:  #97b8ff;\n",
       "            color:  #000000;\n",
       "        }#T_ad1fe_row10_col11{\n",
       "            background-color:  #f4c5ad;\n",
       "            color:  #000000;\n",
       "        }#T_ad1fe_row11_col0{\n",
       "            background-color:  #d7dce3;\n",
       "            color:  #000000;\n",
       "        }#T_ad1fe_row11_col3{\n",
       "            background-color:  #5673e0;\n",
       "            color:  #000000;\n",
       "        }#T_ad1fe_row11_col4{\n",
       "            background-color:  #5b7ae5;\n",
       "            color:  #000000;\n",
       "        }#T_ad1fe_row11_col5{\n",
       "            background-color:  #5572df;\n",
       "            color:  #000000;\n",
       "        }#T_ad1fe_row11_col6{\n",
       "            background-color:  #3f53c6;\n",
       "            color:  #f1f1f1;\n",
       "        }#T_ad1fe_row11_col8{\n",
       "            background-color:  #b7cff9;\n",
       "            color:  #000000;\n",
       "        }#T_ad1fe_row11_col9{\n",
       "            background-color:  #c3d5f4;\n",
       "            color:  #000000;\n",
       "        }#T_ad1fe_row11_col10{\n",
       "            background-color:  #f6bda2;\n",
       "            color:  #000000;\n",
       "        }</style><table id=\"T_ad1fe_\" ><thead>    <tr>        <th class=\"blank level0\" ></th>        <th class=\"col_heading level0 col0\" >fixed acidity</th>        <th class=\"col_heading level0 col1\" >volatile acidity</th>        <th class=\"col_heading level0 col2\" >citric acid</th>        <th class=\"col_heading level0 col3\" >residual sugar</th>        <th class=\"col_heading level0 col4\" >chlorides</th>        <th class=\"col_heading level0 col5\" >free sulfur dioxide</th>        <th class=\"col_heading level0 col6\" >total sulfur dioxide</th>        <th class=\"col_heading level0 col7\" >density</th>        <th class=\"col_heading level0 col8\" >pH</th>        <th class=\"col_heading level0 col9\" >sulphates</th>        <th class=\"col_heading level0 col10\" >alcohol</th>        <th class=\"col_heading level0 col11\" >quality</th>    </tr></thead><tbody>\n",
       "                <tr>\n",
       "                        <th id=\"T_ad1fe_level0_row0\" class=\"row_heading level0 row0\" >fixed acidity</th>\n",
       "                        <td id=\"T_ad1fe_row0_col0\" class=\"data row0 col0\" >1.000000</td>\n",
       "                        <td id=\"T_ad1fe_row0_col1\" class=\"data row0 col1\" >-0.256131</td>\n",
       "                        <td id=\"T_ad1fe_row0_col2\" class=\"data row0 col2\" >0.671703</td>\n",
       "                        <td id=\"T_ad1fe_row0_col3\" class=\"data row0 col3\" >0.114777</td>\n",
       "                        <td id=\"T_ad1fe_row0_col4\" class=\"data row0 col4\" >0.093705</td>\n",
       "                        <td id=\"T_ad1fe_row0_col5\" class=\"data row0 col5\" >-0.153794</td>\n",
       "                        <td id=\"T_ad1fe_row0_col6\" class=\"data row0 col6\" >-0.113181</td>\n",
       "                        <td id=\"T_ad1fe_row0_col7\" class=\"data row0 col7\" >0.668047</td>\n",
       "                        <td id=\"T_ad1fe_row0_col8\" class=\"data row0 col8\" >-0.682978</td>\n",
       "                        <td id=\"T_ad1fe_row0_col9\" class=\"data row0 col9\" >0.183006</td>\n",
       "                        <td id=\"T_ad1fe_row0_col10\" class=\"data row0 col10\" >-0.061668</td>\n",
       "                        <td id=\"T_ad1fe_row0_col11\" class=\"data row0 col11\" >0.124052</td>\n",
       "            </tr>\n",
       "            <tr>\n",
       "                        <th id=\"T_ad1fe_level0_row1\" class=\"row_heading level0 row1\" >volatile acidity</th>\n",
       "                        <td id=\"T_ad1fe_row1_col0\" class=\"data row1 col0\" >-0.256131</td>\n",
       "                        <td id=\"T_ad1fe_row1_col1\" class=\"data row1 col1\" >1.000000</td>\n",
       "                        <td id=\"T_ad1fe_row1_col2\" class=\"data row1 col2\" >-0.552496</td>\n",
       "                        <td id=\"T_ad1fe_row1_col3\" class=\"data row1 col3\" >0.001918</td>\n",
       "                        <td id=\"T_ad1fe_row1_col4\" class=\"data row1 col4\" >0.061298</td>\n",
       "                        <td id=\"T_ad1fe_row1_col5\" class=\"data row1 col5\" >-0.010504</td>\n",
       "                        <td id=\"T_ad1fe_row1_col6\" class=\"data row1 col6\" >0.076470</td>\n",
       "                        <td id=\"T_ad1fe_row1_col7\" class=\"data row1 col7\" >0.022026</td>\n",
       "                        <td id=\"T_ad1fe_row1_col8\" class=\"data row1 col8\" >0.234937</td>\n",
       "                        <td id=\"T_ad1fe_row1_col9\" class=\"data row1 col9\" >-0.260987</td>\n",
       "                        <td id=\"T_ad1fe_row1_col10\" class=\"data row1 col10\" >-0.202288</td>\n",
       "                        <td id=\"T_ad1fe_row1_col11\" class=\"data row1 col11\" >-0.390558</td>\n",
       "            </tr>\n",
       "            <tr>\n",
       "                        <th id=\"T_ad1fe_level0_row2\" class=\"row_heading level0 row2\" >citric acid</th>\n",
       "                        <td id=\"T_ad1fe_row2_col0\" class=\"data row2 col0\" >0.671703</td>\n",
       "                        <td id=\"T_ad1fe_row2_col1\" class=\"data row2 col1\" >-0.552496</td>\n",
       "                        <td id=\"T_ad1fe_row2_col2\" class=\"data row2 col2\" >1.000000</td>\n",
       "                        <td id=\"T_ad1fe_row2_col3\" class=\"data row2 col3\" >0.143577</td>\n",
       "                        <td id=\"T_ad1fe_row2_col4\" class=\"data row2 col4\" >0.203823</td>\n",
       "                        <td id=\"T_ad1fe_row2_col5\" class=\"data row2 col5\" >-0.060978</td>\n",
       "                        <td id=\"T_ad1fe_row2_col6\" class=\"data row2 col6\" >0.035533</td>\n",
       "                        <td id=\"T_ad1fe_row2_col7\" class=\"data row2 col7\" >0.364947</td>\n",
       "                        <td id=\"T_ad1fe_row2_col8\" class=\"data row2 col8\" >-0.541904</td>\n",
       "                        <td id=\"T_ad1fe_row2_col9\" class=\"data row2 col9\" >0.312770</td>\n",
       "                        <td id=\"T_ad1fe_row2_col10\" class=\"data row2 col10\" >0.109903</td>\n",
       "                        <td id=\"T_ad1fe_row2_col11\" class=\"data row2 col11\" >0.226373</td>\n",
       "            </tr>\n",
       "            <tr>\n",
       "                        <th id=\"T_ad1fe_level0_row3\" class=\"row_heading level0 row3\" >residual sugar</th>\n",
       "                        <td id=\"T_ad1fe_row3_col0\" class=\"data row3 col0\" >0.114777</td>\n",
       "                        <td id=\"T_ad1fe_row3_col1\" class=\"data row3 col1\" >0.001918</td>\n",
       "                        <td id=\"T_ad1fe_row3_col2\" class=\"data row3 col2\" >0.143577</td>\n",
       "                        <td id=\"T_ad1fe_row3_col3\" class=\"data row3 col3\" >1.000000</td>\n",
       "                        <td id=\"T_ad1fe_row3_col4\" class=\"data row3 col4\" >0.055610</td>\n",
       "                        <td id=\"T_ad1fe_row3_col5\" class=\"data row3 col5\" >0.187049</td>\n",
       "                        <td id=\"T_ad1fe_row3_col6\" class=\"data row3 col6\" >0.203028</td>\n",
       "                        <td id=\"T_ad1fe_row3_col7\" class=\"data row3 col7\" >0.355283</td>\n",
       "                        <td id=\"T_ad1fe_row3_col8\" class=\"data row3 col8\" >-0.085652</td>\n",
       "                        <td id=\"T_ad1fe_row3_col9\" class=\"data row3 col9\" >0.005527</td>\n",
       "                        <td id=\"T_ad1fe_row3_col10\" class=\"data row3 col10\" >0.042075</td>\n",
       "                        <td id=\"T_ad1fe_row3_col11\" class=\"data row3 col11\" >0.013732</td>\n",
       "            </tr>\n",
       "            <tr>\n",
       "                        <th id=\"T_ad1fe_level0_row4\" class=\"row_heading level0 row4\" >chlorides</th>\n",
       "                        <td id=\"T_ad1fe_row4_col0\" class=\"data row4 col0\" >0.093705</td>\n",
       "                        <td id=\"T_ad1fe_row4_col1\" class=\"data row4 col1\" >0.061298</td>\n",
       "                        <td id=\"T_ad1fe_row4_col2\" class=\"data row4 col2\" >0.203823</td>\n",
       "                        <td id=\"T_ad1fe_row4_col3\" class=\"data row4 col3\" >0.055610</td>\n",
       "                        <td id=\"T_ad1fe_row4_col4\" class=\"data row4 col4\" >1.000000</td>\n",
       "                        <td id=\"T_ad1fe_row4_col5\" class=\"data row4 col5\" >0.005562</td>\n",
       "                        <td id=\"T_ad1fe_row4_col6\" class=\"data row4 col6\" >0.047400</td>\n",
       "                        <td id=\"T_ad1fe_row4_col7\" class=\"data row4 col7\" >0.200632</td>\n",
       "                        <td id=\"T_ad1fe_row4_col8\" class=\"data row4 col8\" >-0.265026</td>\n",
       "                        <td id=\"T_ad1fe_row4_col9\" class=\"data row4 col9\" >0.371260</td>\n",
       "                        <td id=\"T_ad1fe_row4_col10\" class=\"data row4 col10\" >-0.221141</td>\n",
       "                        <td id=\"T_ad1fe_row4_col11\" class=\"data row4 col11\" >-0.128907</td>\n",
       "            </tr>\n",
       "            <tr>\n",
       "                        <th id=\"T_ad1fe_level0_row5\" class=\"row_heading level0 row5\" >free sulfur dioxide</th>\n",
       "                        <td id=\"T_ad1fe_row5_col0\" class=\"data row5 col0\" >-0.153794</td>\n",
       "                        <td id=\"T_ad1fe_row5_col1\" class=\"data row5 col1\" >-0.010504</td>\n",
       "                        <td id=\"T_ad1fe_row5_col2\" class=\"data row5 col2\" >-0.060978</td>\n",
       "                        <td id=\"T_ad1fe_row5_col3\" class=\"data row5 col3\" >0.187049</td>\n",
       "                        <td id=\"T_ad1fe_row5_col4\" class=\"data row5 col4\" >0.005562</td>\n",
       "                        <td id=\"T_ad1fe_row5_col5\" class=\"data row5 col5\" >1.000000</td>\n",
       "                        <td id=\"T_ad1fe_row5_col6\" class=\"data row5 col6\" >0.667666</td>\n",
       "                        <td id=\"T_ad1fe_row5_col7\" class=\"data row5 col7\" >-0.021946</td>\n",
       "                        <td id=\"T_ad1fe_row5_col8\" class=\"data row5 col8\" >0.070377</td>\n",
       "                        <td id=\"T_ad1fe_row5_col9\" class=\"data row5 col9\" >0.051658</td>\n",
       "                        <td id=\"T_ad1fe_row5_col10\" class=\"data row5 col10\" >-0.069408</td>\n",
       "                        <td id=\"T_ad1fe_row5_col11\" class=\"data row5 col11\" >-0.050656</td>\n",
       "            </tr>\n",
       "            <tr>\n",
       "                        <th id=\"T_ad1fe_level0_row6\" class=\"row_heading level0 row6\" >total sulfur dioxide</th>\n",
       "                        <td id=\"T_ad1fe_row6_col0\" class=\"data row6 col0\" >-0.113181</td>\n",
       "                        <td id=\"T_ad1fe_row6_col1\" class=\"data row6 col1\" >0.076470</td>\n",
       "                        <td id=\"T_ad1fe_row6_col2\" class=\"data row6 col2\" >0.035533</td>\n",
       "                        <td id=\"T_ad1fe_row6_col3\" class=\"data row6 col3\" >0.203028</td>\n",
       "                        <td id=\"T_ad1fe_row6_col4\" class=\"data row6 col4\" >0.047400</td>\n",
       "                        <td id=\"T_ad1fe_row6_col5\" class=\"data row6 col5\" >0.667666</td>\n",
       "                        <td id=\"T_ad1fe_row6_col6\" class=\"data row6 col6\" >1.000000</td>\n",
       "                        <td id=\"T_ad1fe_row6_col7\" class=\"data row6 col7\" >0.071269</td>\n",
       "                        <td id=\"T_ad1fe_row6_col8\" class=\"data row6 col8\" >-0.066495</td>\n",
       "                        <td id=\"T_ad1fe_row6_col9\" class=\"data row6 col9\" >0.042947</td>\n",
       "                        <td id=\"T_ad1fe_row6_col10\" class=\"data row6 col10\" >-0.205654</td>\n",
       "                        <td id=\"T_ad1fe_row6_col11\" class=\"data row6 col11\" >-0.185100</td>\n",
       "            </tr>\n",
       "            <tr>\n",
       "                        <th id=\"T_ad1fe_level0_row7\" class=\"row_heading level0 row7\" >density</th>\n",
       "                        <td id=\"T_ad1fe_row7_col0\" class=\"data row7 col0\" >0.668047</td>\n",
       "                        <td id=\"T_ad1fe_row7_col1\" class=\"data row7 col1\" >0.022026</td>\n",
       "                        <td id=\"T_ad1fe_row7_col2\" class=\"data row7 col2\" >0.364947</td>\n",
       "                        <td id=\"T_ad1fe_row7_col3\" class=\"data row7 col3\" >0.355283</td>\n",
       "                        <td id=\"T_ad1fe_row7_col4\" class=\"data row7 col4\" >0.200632</td>\n",
       "                        <td id=\"T_ad1fe_row7_col5\" class=\"data row7 col5\" >-0.021946</td>\n",
       "                        <td id=\"T_ad1fe_row7_col6\" class=\"data row7 col6\" >0.071269</td>\n",
       "                        <td id=\"T_ad1fe_row7_col7\" class=\"data row7 col7\" >1.000000</td>\n",
       "                        <td id=\"T_ad1fe_row7_col8\" class=\"data row7 col8\" >-0.341699</td>\n",
       "                        <td id=\"T_ad1fe_row7_col9\" class=\"data row7 col9\" >0.148506</td>\n",
       "                        <td id=\"T_ad1fe_row7_col10\" class=\"data row7 col10\" >-0.496180</td>\n",
       "                        <td id=\"T_ad1fe_row7_col11\" class=\"data row7 col11\" >-0.174919</td>\n",
       "            </tr>\n",
       "            <tr>\n",
       "                        <th id=\"T_ad1fe_level0_row8\" class=\"row_heading level0 row8\" >pH</th>\n",
       "                        <td id=\"T_ad1fe_row8_col0\" class=\"data row8 col0\" >-0.682978</td>\n",
       "                        <td id=\"T_ad1fe_row8_col1\" class=\"data row8 col1\" >0.234937</td>\n",
       "                        <td id=\"T_ad1fe_row8_col2\" class=\"data row8 col2\" >-0.541904</td>\n",
       "                        <td id=\"T_ad1fe_row8_col3\" class=\"data row8 col3\" >-0.085652</td>\n",
       "                        <td id=\"T_ad1fe_row8_col4\" class=\"data row8 col4\" >-0.265026</td>\n",
       "                        <td id=\"T_ad1fe_row8_col5\" class=\"data row8 col5\" >0.070377</td>\n",
       "                        <td id=\"T_ad1fe_row8_col6\" class=\"data row8 col6\" >-0.066495</td>\n",
       "                        <td id=\"T_ad1fe_row8_col7\" class=\"data row8 col7\" >-0.341699</td>\n",
       "                        <td id=\"T_ad1fe_row8_col8\" class=\"data row8 col8\" >1.000000</td>\n",
       "                        <td id=\"T_ad1fe_row8_col9\" class=\"data row8 col9\" >-0.196648</td>\n",
       "                        <td id=\"T_ad1fe_row8_col10\" class=\"data row8 col10\" >0.205633</td>\n",
       "                        <td id=\"T_ad1fe_row8_col11\" class=\"data row8 col11\" >-0.057731</td>\n",
       "            </tr>\n",
       "            <tr>\n",
       "                        <th id=\"T_ad1fe_level0_row9\" class=\"row_heading level0 row9\" >sulphates</th>\n",
       "                        <td id=\"T_ad1fe_row9_col0\" class=\"data row9 col0\" >0.183006</td>\n",
       "                        <td id=\"T_ad1fe_row9_col1\" class=\"data row9 col1\" >-0.260987</td>\n",
       "                        <td id=\"T_ad1fe_row9_col2\" class=\"data row9 col2\" >0.312770</td>\n",
       "                        <td id=\"T_ad1fe_row9_col3\" class=\"data row9 col3\" >0.005527</td>\n",
       "                        <td id=\"T_ad1fe_row9_col4\" class=\"data row9 col4\" >0.371260</td>\n",
       "                        <td id=\"T_ad1fe_row9_col5\" class=\"data row9 col5\" >0.051658</td>\n",
       "                        <td id=\"T_ad1fe_row9_col6\" class=\"data row9 col6\" >0.042947</td>\n",
       "                        <td id=\"T_ad1fe_row9_col7\" class=\"data row9 col7\" >0.148506</td>\n",
       "                        <td id=\"T_ad1fe_row9_col8\" class=\"data row9 col8\" >-0.196648</td>\n",
       "                        <td id=\"T_ad1fe_row9_col9\" class=\"data row9 col9\" >1.000000</td>\n",
       "                        <td id=\"T_ad1fe_row9_col10\" class=\"data row9 col10\" >0.093595</td>\n",
       "                        <td id=\"T_ad1fe_row9_col11\" class=\"data row9 col11\" >0.251397</td>\n",
       "            </tr>\n",
       "            <tr>\n",
       "                        <th id=\"T_ad1fe_level0_row10\" class=\"row_heading level0 row10\" >alcohol</th>\n",
       "                        <td id=\"T_ad1fe_row10_col0\" class=\"data row10 col0\" >-0.061668</td>\n",
       "                        <td id=\"T_ad1fe_row10_col1\" class=\"data row10 col1\" >-0.202288</td>\n",
       "                        <td id=\"T_ad1fe_row10_col2\" class=\"data row10 col2\" >0.109903</td>\n",
       "                        <td id=\"T_ad1fe_row10_col3\" class=\"data row10 col3\" >0.042075</td>\n",
       "                        <td id=\"T_ad1fe_row10_col4\" class=\"data row10 col4\" >-0.221141</td>\n",
       "                        <td id=\"T_ad1fe_row10_col5\" class=\"data row10 col5\" >-0.069408</td>\n",
       "                        <td id=\"T_ad1fe_row10_col6\" class=\"data row10 col6\" >-0.205654</td>\n",
       "                        <td id=\"T_ad1fe_row10_col7\" class=\"data row10 col7\" >-0.496180</td>\n",
       "                        <td id=\"T_ad1fe_row10_col8\" class=\"data row10 col8\" >0.205633</td>\n",
       "                        <td id=\"T_ad1fe_row10_col9\" class=\"data row10 col9\" >0.093595</td>\n",
       "                        <td id=\"T_ad1fe_row10_col10\" class=\"data row10 col10\" >1.000000</td>\n",
       "                        <td id=\"T_ad1fe_row10_col11\" class=\"data row10 col11\" >0.476166</td>\n",
       "            </tr>\n",
       "            <tr>\n",
       "                        <th id=\"T_ad1fe_level0_row11\" class=\"row_heading level0 row11\" >quality</th>\n",
       "                        <td id=\"T_ad1fe_row11_col0\" class=\"data row11 col0\" >0.124052</td>\n",
       "                        <td id=\"T_ad1fe_row11_col1\" class=\"data row11 col1\" >-0.390558</td>\n",
       "                        <td id=\"T_ad1fe_row11_col2\" class=\"data row11 col2\" >0.226373</td>\n",
       "                        <td id=\"T_ad1fe_row11_col3\" class=\"data row11 col3\" >0.013732</td>\n",
       "                        <td id=\"T_ad1fe_row11_col4\" class=\"data row11 col4\" >-0.128907</td>\n",
       "                        <td id=\"T_ad1fe_row11_col5\" class=\"data row11 col5\" >-0.050656</td>\n",
       "                        <td id=\"T_ad1fe_row11_col6\" class=\"data row11 col6\" >-0.185100</td>\n",
       "                        <td id=\"T_ad1fe_row11_col7\" class=\"data row11 col7\" >-0.174919</td>\n",
       "                        <td id=\"T_ad1fe_row11_col8\" class=\"data row11 col8\" >-0.057731</td>\n",
       "                        <td id=\"T_ad1fe_row11_col9\" class=\"data row11 col9\" >0.251397</td>\n",
       "                        <td id=\"T_ad1fe_row11_col10\" class=\"data row11 col10\" >0.476166</td>\n",
       "                        <td id=\"T_ad1fe_row11_col11\" class=\"data row11 col11\" >1.000000</td>\n",
       "            </tr>\n",
       "    </tbody></table>"
      ],
      "text/plain": [
       "<pandas.io.formats.style.Styler at 0x1ba98529eb0>"
      ]
     },
     "execution_count": 54,
     "metadata": {},
     "output_type": "execute_result"
    }
   ],
   "source": [
    "corr = data.corr()\n",
    "corr.style.background_gradient(cmap='coolwarm')"
   ]
  },
  {
   "cell_type": "markdown",
   "id": "f9f48f1e",
   "metadata": {},
   "source": [
    "# Barplot"
   ]
  },
  {
   "cell_type": "markdown",
   "id": "e7b0ef76",
   "metadata": {},
   "source": [
    "Lastly I'll use the barplot() function to create a barplot. The barplot will visually represent data in rectangular bars with the height of bars proportional to the value they represent. This plat is ideal for my deductions that I've made from the correlation heatmap(cf. 1.4.3). It is clear that the quality increases when there is more alcohol and that the quality decreases when there is more volatile acidity."
   ]
  },
  {
   "cell_type": "code",
   "execution_count": 10,
   "id": "bb7ab138",
   "metadata": {},
   "outputs": [
    {
     "data": {
      "text/plain": [
       "<AxesSubplot:xlabel='quality', ylabel='alcohol'>"
      ]
     },
     "execution_count": 10,
     "metadata": {},
     "output_type": "execute_result"
    },
    {
     "data": {
      "image/png": "[encoded data removed]",
      "text/plain": [
       "<Figure size 432x288 with 1 Axes>"
      ]
     },
     "metadata": {
      "needs_background": "light"
     },
     "output_type": "display_data"
    }
   ],
   "source": [
    "sns.barplot(x='quality', y='alcohol', data=data, palette='Blues')"
   ]
  },
  {
   "cell_type": "code",
   "execution_count": 11,
   "id": "ee07e998",
   "metadata": {},
   "outputs": [
    {
     "data": {
      "text/plain": [
       "<AxesSubplot:xlabel='quality', ylabel='volatile acidity'>"
      ]
     },
     "execution_count": 11,
     "metadata": {},
     "output_type": "execute_result"
    },
    {
     "data": {
      "image/png": "[encoded data removed]",
      "text/plain": [
       "<Figure size 432x288 with 1 Axes>"
      ]
     },
     "metadata": {
      "needs_background": "light"
     },
     "output_type": "display_data"
    }
   ],
   "source": [
    "sns.barplot(x='quality', y='volatile acidity', data=data, palette='Blues')"
   ]
  },
  {
   "cell_type": "code",
   "execution_count": null,
   "id": "55bbcd29",
   "metadata": {},
   "outputs": [],
   "source": []
  },
  {
   "cell_type": "code",
   "execution_count": 56,
   "id": "45448051",
   "metadata": {},
   "outputs": [
    {
     "data": {
      "text/plain": [
       "5    681\n",
       "6    638\n",
       "7    199\n",
       "4     53\n",
       "8     18\n",
       "3     10\n",
       "Name: quality, dtype: int64"
      ]
     },
     "execution_count": 56,
     "metadata": {},
     "output_type": "execute_result"
    }
   ],
   "source": [
    "data['quality'].value_counts()"
   ]
  },
  {
   "cell_type": "code",
   "execution_count": 57,
   "id": "1873530d",
   "metadata": {},
   "outputs": [
    {
     "name": "stderr",
     "output_type": "stream",
     "text": [
      "E:\\Users\\Ashwini\\lib\\site-packages\\seaborn\\_decorators.py:36: FutureWarning: Pass the following variable as a keyword arg: x. From version 0.12, the only valid positional argument will be `data`, and passing other arguments without an explicit keyword will result in an error or misinterpretation.\n",
      "  warnings.warn(\n"
     ]
    },
    {
     "data": {
      "text/plain": [
       "<AxesSubplot:xlabel='quality', ylabel='count'>"
      ]
     },
     "execution_count": 57,
     "metadata": {},
     "output_type": "execute_result"
    },
    {
     "data": {
      "image/png": "[encoded data removed]",
      "text/plain": [
       "<Figure size 432x288 with 1 Axes>"
      ]
     },
     "metadata": {
      "needs_background": "light"
     },
     "output_type": "display_data"
    }
   ],
   "source": [
    "sns.countplot(data['quality'])"
   ]
  },
  {
   "cell_type": "markdown",
   "id": "21b267bd",
   "metadata": {},
   "source": [
    "When we plot the count of quality in the data. We observe imbalance in Labels"
   ]
  },
  {
   "cell_type": "markdown",
   "id": "fa7502c3",
   "metadata": {},
   "source": [
    "# Pre-processing the dataset"
   ]
  },
  {
   "cell_type": "markdown",
   "id": "25153fc6",
   "metadata": {},
   "source": [
    "The last step before building the ML models, I'll pre-process the data. This process refers to the manipulation or dropping of data before it is used in order to ensure or enhance performance. The DataFrame.dropna() function helps me removing missing values. To be sure that there are no missing values left, I'll use the DataFrame.isnull().sum() function.\n",
    "Zero (or null) data will make the analysis more complicated. They might be labeled incorrectly as similar since they are all zeros. That is why I remove the missing values."
   ]
  },
  {
   "cell_type": "code",
   "execution_count": 16,
   "id": "d9fce5d1",
   "metadata": {},
   "outputs": [
    {
     "data": {
      "text/plain": [
       "fixed acidity           0\n",
       "volatile acidity        0\n",
       "citric acid             0\n",
       "residual sugar          0\n",
       "chlorides               0\n",
       "free sulfur dioxide     0\n",
       "total sulfur dioxide    0\n",
       "density                 0\n",
       "pH                      0\n",
       "sulphates               0\n",
       "alcohol                 0\n",
       "quality                 0\n",
       "dtype: int64"
      ]
     },
     "execution_count": 16,
     "metadata": {},
     "output_type": "execute_result"
    }
   ],
   "source": [
    "# Check if there are no missing values left\n",
    "data.isnull().sum()"
   ]
  },
  {
   "cell_type": "code",
   "execution_count": 18,
   "id": "9998ad28",
   "metadata": {},
   "outputs": [],
   "source": [
    "# Select the prediction target\n",
    "y = data['quality']\n",
    "# Select the features without the quality variable\n",
    "X = data.drop('quality', axis=1)"
   ]
  },
  {
   "cell_type": "markdown",
   "id": "cb8aeb75",
   "metadata": {},
   "source": [
    "# Prediction target binarization"
   ]
  },
  {
   "cell_type": "markdown",
   "id": "3a4678ae",
   "metadata": {},
   "source": [
    "Binarization is the process of transforming data features of any entity into vectors of binary numbers to make ML algorithms more efficient. As stated earlier, the quality goes from 3 to 8 and I chose 6 as the mean value. By binarizing the prediction target, I'll be able to tell more quickly if the wine is of good or bad quality. This means that if the quality is lower than 6, it will be considered bad quality wine and if the quality is greater than 6, it will be considered good quality wine"
   ]
  },
  {
   "cell_type": "markdown",
   "id": "0c755805",
   "metadata": {},
   "source": [
    "* 1 = Good quality wine\n",
    "\n",
    "* 0 = Bad quality wine"
   ]
  },
  {
   "cell_type": "code",
   "execution_count": 19,
   "id": "a3a684a3",
   "metadata": {},
   "outputs": [],
   "source": [
    "# Binarize the prediction target\n",
    "y = y.apply(lambda y: 1 if y >= 7 else 0)"
   ]
  },
  {
   "cell_type": "markdown",
   "id": "35726c55",
   "metadata": {},
   "source": [
    "# Train-Test Split"
   ]
  },
  {
   "cell_type": "markdown",
   "id": "c22de614",
   "metadata": {},
   "source": [
    "The train-test split procedure is used to estimate the performance of ML algorithms when they are used to make predictions on data not used to train the model. In order to create a validation set we want to separate both the prediction target and the features into 2 additional data sets. Which gives us 4 data sets:"
   ]
  },
  {
   "cell_type": "markdown",
   "id": "42af1084",
   "metadata": {},
   "source": [
    "1.Prediction target training data\n",
    "\n",
    "2.Prediction target validation data\n",
    "\n",
    "3.Feature training data\n",
    "\n",
    "4.Feature validation data"
   ]
  },
  {
   "cell_type": "markdown",
   "id": "630b015b",
   "metadata": {},
   "source": [
    "The test size is equal to 0.2 which means that 20% of the dataset is test data. The random state is set to 0 which means that it doesn't matter how many times I'll execute the code, the result will be the same (same values in train and test datasets).\n",
    "\n",
    "\n",
    "\n",
    "Lastly I'll use StandardScaler to scale the data."
   ]
  },
  {
   "cell_type": "code",
   "execution_count": 20,
   "id": "ee8ad6b7",
   "metadata": {},
   "outputs": [],
   "source": [
    "# Split data into training and validation data for both features and target\n",
    "X_tr, X_test, y_tr, y_test = train_test_split(X, y, test_size=0.2, random_state=0)"
   ]
  },
  {
   "cell_type": "code",
   "execution_count": 21,
   "id": "8b151945",
   "metadata": {},
   "outputs": [
    {
     "name": "stdout",
     "output_type": "stream",
     "text": [
      "(1599,) (1279,) (320,)\n"
     ]
    }
   ],
   "source": [
    "# Print how many values are inside y_tr and y_test\n",
    "print(y.shape, y_tr.shape, y_test.shape)"
   ]
  },
  {
   "cell_type": "code",
   "execution_count": 22,
   "id": "3ab92de2",
   "metadata": {},
   "outputs": [
    {
     "name": "stdout",
     "output_type": "stream",
     "text": [
      "(1599, 11) (1279, 11) (320, 11)\n"
     ]
    }
   ],
   "source": [
    "# Print how many values are inside X_tr and X_test\n",
    "print(X.shape, X_tr.shape, X_test.shape)"
   ]
  },
  {
   "cell_type": "code",
   "execution_count": 23,
   "id": "f06ab0d9",
   "metadata": {},
   "outputs": [],
   "source": [
    "# Standardize everything\n",
    "sc = StandardScaler()\n",
    "X_tr = sc.fit_transform(X_tr)\n",
    "X_test = sc.fit_transform(X_test)"
   ]
  },
  {
   "cell_type": "markdown",
   "id": "13525c5f",
   "metadata": {},
   "source": [
    "# Machine learning models"
   ]
  },
  {
   "cell_type": "markdown",
   "id": "e458cc28",
   "metadata": {},
   "source": [
    "Since my prediction target has been binarized, I can directly tell that I will need a classification algorithm to predict the wine quality. Classfication algorithms are used to predict the discrete values such as True or False, Spam or Not Spam or in our case 0 or 1. The 3 classification algorithms that I'll choose are:"
   ]
  },
  {
   "cell_type": "markdown",
   "id": "d22ab97a",
   "metadata": {},
   "source": [
    "1.Random Forest Classifier\n",
    "\n",
    "2.Decision Tree Classifier\n",
    "\n",
    "3.K-Nearest Neighbors\n",
    "\n",
    "**as introduction \n",
    "\n",
    "*Define a model\n",
    "\n",
    "*Fit the model\n",
    "\n",
    "*Make predictions\n",
    "\n",
    "*Validate the model\n",
    "\n"
   ]
  },
  {
   "cell_type": "raw",
   "id": "00d85fea",
   "metadata": {},
   "source": [
    "In code, it looks like that:\n",
    "\n",
    "# Define model\n",
    "model = ModelName()\n",
    "\n",
    "# Fit model\n",
    "model.fit(features, target)\n",
    "\n",
    "# Get predicted quality on validation data\n",
    "predictions = model.predict(data)\n",
    "\n",
    "# Print the mean_absolute_error, accuracy score and prediction \n",
    "print(mean_absolute_error(actual, predictions))\n",
    "print(accuracy_score(actual, predictions))\n",
    "print(predictions)"
   ]
  },
  {
   "cell_type": "markdown",
   "id": "c642263c",
   "metadata": {},
   "source": [
    "In the validation step you'll see three functions from Scikit-learn, namely the mean_absolute_error() and the accuracy_score().\n",
    "\n",
    "    The MAE is a way to measure the accuracy of a given model. The value that is obtained tells us the average difference between the actual data value and the value predicted by the model. Briefly, the lower the MAE for a given model, the more closely the model is able to predict the actual values.\n",
    "    \n",
    "The accuracy score calculates the accuracy. It returns a float between 0 and 1 with 1 being the most accurate value.\n",
    "\n",
    "The confusion matrix describes the performance of a classification model. It returns a 2x2 matrix.\n",
    "\n",
    "* Bottom right: In x cases the model predicted correctly that it is good wine.\n",
    "\n",
    "* Upper left: In x cases the model predicted correctly that it is bad wine.\n",
    "\n",
    "* Upper right: In x cases the model predicted incorrectly that it is good wine.\n",
    "\n",
    "* Bottom left: In x cases the model predicted incorrectly that it is bad wine.\n"
   ]
  },
  {
   "cell_type": "markdown",
   "id": "dafb872d",
   "metadata": {},
   "source": [
    "For each model I'll implement this pattern, to make it easier I'll define this pattern in a function to make it reusable for each model. I'll call this method get_evaluations(). The output of the function will be the name of the ML model, MAE, accuracy score, confusion matrix and its prediction."
   ]
  },
  {
   "cell_type": "code",
   "execution_count": 25,
   "id": "46284e7c",
   "metadata": {},
   "outputs": [
    {
     "name": "stdout",
     "output_type": "stream",
     "text": [
      "1. DecisionTreeClassifier -> MAE: 0.121875 -> Accuracy score: 0.878125 -> Average precision: 0.303359\n",
      "\n",
      "[[261  29]\n",
      " [ 10  20]] \n",
      "\n",
      "[0 0 1 0 1 0 0 1 0 0 0 0 1 0 0 0 1 0 0 0 0 0 0 0 0 0 0 0 0 0 1 0 0 1 1 1 0\n",
      " 0 0 1 0 0 0 0 0 0 0 0 0 0 0 0 0 0 0 0 0 0 1 0 0 0 1 0 0 0 0 0 0 0 0 0 0 0\n",
      " 0 0 0 0 0 0 0 0 1 1 0 0 1 0 0 0 0 0 0 0 1 0 1 0 0 1 1 0 0 0 0 0 0 0 0 0 0\n",
      " 0 1 0 0 0 1 1 0 0 0 0 0 0 1 0 0 0 0 1 0 0 0 0 0 0 0 0 0 0 0 0 0 0 0 0 1 0\n",
      " 0 0 0 0 0 0 0 0 0 0 0 0 0 0 1 0 0 0 0 0 0 0 0 0 0 1 1 1 0 1 1 0 0 0 0 0 1\n",
      " 0 0 0 0 0 0 0 0 0 0 0 0 0 0 0 0 0 0 0 0 0 0 0 1 0 0 0 0 1 0 0 1 0 0 0 0 0\n",
      " 1 0 0 0 1 0 0 0 0 0 0 0 1 0 0 1 1 0 0 0 0 0 1 0 0 0 0 0 0 0 0 0 0 0 0 1 0\n",
      " 1 0 0 0 0 0 0 0 0 0 0 0 0 0 0 1 0 1 0 0 1 0 0 0 0 0 0 0 0 0 0 0 0 0 0 0 0\n",
      " 0 1 0 0 0 0 0 0 0 0 0 0 0 0 0 0 0 0 0 0 0 1 0 1] \n",
      "\n",
      "\n",
      "2. RandomForestClassifier -> MAE: 0.0625 -> Accuracy score: 0.9375 -> Average precision: 0.431629\n",
      "\n",
      "[[284   6]\n",
      " [ 14  16]] \n",
      "\n",
      "[0 0 1 0 0 0 0 0 0 0 0 0 0 0 0 0 1 0 0 0 0 0 0 0 0 0 0 1 0 0 0 0 0 0 0 1 0\n",
      " 0 0 0 0 0 1 1 0 0 0 0 0 0 0 0 0 0 0 0 0 0 1 0 0 0 0 0 0 0 0 0 1 0 0 0 0 0\n",
      " 0 0 0 0 0 1 0 0 0 0 0 0 0 0 0 0 0 0 0 0 0 0 0 0 0 0 1 0 0 0 0 0 0 0 0 0 0\n",
      " 0 1 0 0 0 0 1 0 0 0 0 0 0 0 0 0 0 0 0 0 0 0 0 0 0 0 0 0 0 0 0 0 0 0 0 1 0\n",
      " 0 0 0 0 0 0 0 0 0 0 0 0 0 0 0 0 0 0 0 0 0 0 0 0 0 1 0 0 0 1 1 0 0 1 0 0 0\n",
      " 0 0 0 0 0 0 0 0 0 0 0 0 0 0 0 0 0 0 0 0 0 0 0 0 0 0 0 0 1 0 0 0 0 0 0 0 0\n",
      " 0 0 0 0 0 0 0 0 0 0 0 0 0 0 0 1 1 0 0 0 0 0 0 0 0 0 0 0 0 0 0 0 0 0 0 0 0\n",
      " 1 0 0 0 0 0 0 0 0 0 0 0 0 0 0 0 0 0 0 0 0 0 1 0 0 0 0 0 0 0 0 0 0 0 0 0 0\n",
      " 0 0 0 0 0 0 0 0 0 0 0 0 0 0 0 0 0 0 0 0 0 0 0 0] \n",
      "\n",
      "\n",
      "3. KNeighborsClassifier -> MAE: 0.1 -> Accuracy score: 0.9 -> Average precision: 0.29473\n",
      "\n",
      "[[272  18]\n",
      " [ 14  16]] \n",
      "\n",
      "[0 0 1 0 0 0 0 0 0 0 0 0 0 0 0 1 1 0 0 0 0 0 0 0 0 0 0 1 0 0 1 0 0 0 0 0 0\n",
      " 0 0 1 0 1 1 1 0 0 0 0 0 0 0 0 0 1 0 0 0 0 0 0 0 0 0 0 0 0 0 0 0 0 0 0 0 0\n",
      " 0 0 0 0 0 1 0 0 0 0 0 0 0 0 0 0 0 0 0 0 0 0 1 0 0 0 1 0 0 0 0 0 0 0 0 0 0\n",
      " 0 1 0 0 0 1 1 0 0 0 0 0 0 0 1 0 0 0 1 0 0 0 0 0 0 0 0 0 0 0 0 0 0 0 0 1 0\n",
      " 0 0 0 0 0 0 0 0 0 0 0 0 0 0 0 0 0 0 0 0 0 0 0 0 0 1 0 0 0 1 0 0 0 1 0 0 0\n",
      " 0 0 0 0 1 0 0 0 0 0 0 0 0 0 0 0 0 0 0 0 0 0 0 0 0 0 0 0 1 0 0 0 0 0 0 0 0\n",
      " 0 1 0 0 1 0 0 0 0 0 0 0 1 0 0 1 0 0 0 0 0 0 0 0 0 0 0 0 0 0 0 0 0 0 0 0 0\n",
      " 0 0 1 0 0 0 0 0 0 0 0 0 0 0 0 0 0 1 0 0 1 0 0 0 0 0 0 0 0 1 0 0 0 0 0 0 0\n",
      " 0 0 0 0 0 0 0 0 0 0 0 0 0 0 0 0 0 0 0 0 0 1 0 1] \n",
      "\n",
      "\n"
     ]
    }
   ],
   "source": [
    "def get_evaluations(X_tr, X_test, y_tr, y_test):\n",
    "    models = (DecisionTreeClassifier, RandomForestClassifier, KNeighborsClassifier)\n",
    "    index = 0\n",
    "    \n",
    "    for model_name in models:\n",
    "        index += 1\n",
    "        model = model_name()\n",
    "        model.fit(X_tr, y_tr)\n",
    "        prediction_val = model.predict(X_test)\n",
    "        mae = mean_absolute_error(y_test, prediction_val)\n",
    "        acc = accuracy_score(y_test, prediction_val)\n",
    "        avgp = round(average_precision_score(y_test, prediction_val), 6)\n",
    "        print(f\"%d. %s -> MAE: {mae} -> Accuracy score: {acc} -> Average precision: {avgp}\\n\" %(index, model_name.__name__))\n",
    "        print(confusion_matrix(y_test, prediction_val), \"\\n\")\n",
    "        print(prediction_val, \"\\n\\n\")\n",
    "        \n",
    "get_evaluations(X_tr, X_test, y_tr, y_test)"
   ]
  },
  {
   "cell_type": "markdown",
   "id": "4a07bd82",
   "metadata": {},
   "source": [
    "The results printed above are displayed to get a baseline idea of the performance using the default parameters during the fitting process of the models.\n",
    "\n"
   ]
  },
  {
   "cell_type": "markdown",
   "id": "ab98d4b1",
   "metadata": {},
   "source": [
    "# Decision Tree Classifier"
   ]
  },
  {
   "cell_type": "markdown",
   "id": "9ece69be",
   "metadata": {},
   "source": [
    "The first ML model that I will use is the Decision Tree Classifier. I chose for this model because it is easy to interpret. Also, the Decision Tree Classifier has a low training time. Finally, it requires less effort for data pre-processing and the data does not require to be scaled."
   ]
  },
  {
   "cell_type": "markdown",
   "id": "3c137547",
   "metadata": {},
   "source": [
    "# Hyperparameter tuning process"
   ]
  },
  {
   "cell_type": "markdown",
   "id": "12886b99",
   "metadata": {},
   "source": [
    "During the hyperparameter tuning process I'll tune following parameters:\n",
    "\n",
    "* max_leaf_nodes: Total number of terminal nodes (leaves) in a tree\n",
    "    \n",
    "* max_depth: Indicates how deep the tree can be\n",
    "    \n",
    "* max_features: The number of features considered for splitting a node\n",
    "    \n",
    "\n",
    "The functions are really simple. First I'll define an array of integers that represents the different values assigned to the parameters mentioned above. Then I'll loop through the array and assign the values to the function parameter. Finally I'll print the evaluations. It is exactly the same as in the get_evaluations() function used in 2. Machine learning models but I applied hyperparameter tuning.\n",
    "\n"
   ]
  },
  {
   "cell_type": "markdown",
   "id": "221be916",
   "metadata": {},
   "source": [
    "# Max leaf nodes"
   ]
  },
  {
   "cell_type": "markdown",
   "id": "70c1584a",
   "metadata": {},
   "source": [
    "The purpose of this parameter is to get an indication of how deep the tree can be."
   ]
  },
  {
   "cell_type": "code",
   "execution_count": 26,
   "id": "e3ba32f2",
   "metadata": {},
   "outputs": [
    {
     "name": "stdout",
     "output_type": "stream",
     "text": [
      "5 leaf nodes -> MAE: 0.0875 -> Accuracy score: 0.9125 -> Average precision: 0.247685\n",
      "\n",
      "[[282   8]\n",
      " [ 20  10]] \n",
      "\n",
      "10 leaf nodes -> MAE: 0.1 -> Accuracy score: 0.9 -> Average precision: 0.240865\n",
      "\n",
      "[[276  14]\n",
      " [ 18  12]] \n",
      "\n",
      "15 leaf nodes -> MAE: 0.08125 -> Accuracy score: 0.91875 -> Average precision: 0.29625\n",
      "\n",
      "[[282   8]\n",
      " [ 18  12]] \n",
      "\n",
      "20 leaf nodes -> MAE: 0.0875 -> Accuracy score: 0.9125 -> Average precision: 0.301282\n",
      "\n",
      "[[278  12]\n",
      " [ 16  14]] \n",
      "\n",
      "25 leaf nodes -> MAE: 0.08125 -> Accuracy score: 0.91875 -> Average precision: 0.375\n",
      "\n",
      "[[276  14]\n",
      " [ 12  18]] \n",
      "\n",
      "30 leaf nodes -> MAE: 0.103125 -> Accuracy score: 0.896875 -> Average precision: 0.314423\n",
      "\n",
      "[[269  21]\n",
      " [ 12  18]] \n",
      "\n"
     ]
    }
   ],
   "source": [
    "def get_evaluations_max_leaf_nodes(X_tr, X_test, y_tr, y_test):  \n",
    "    #list_leaf_nodes = [5, 25, 50, 100, 250, 500]\n",
    "    list_leaf_nodes = [5, 10, 15, 20, 25, 30]\n",
    "    \n",
    "    for maximum in list_leaf_nodes: \n",
    "        model = DecisionTreeClassifier(max_leaf_nodes= maximum)\n",
    "        model.fit(X_tr, y_tr)\n",
    "        prediction_val = model.predict(X_test)\n",
    "        mae = mean_absolute_error(y_test, prediction_val)\n",
    "        acc = accuracy_score(y_test, prediction_val)\n",
    "        avgp = round(average_precision_score(y_test, prediction_val), 6)\n",
    "        print(f\"%s leaf nodes -> MAE: {mae} -> Accuracy score: {acc} -> Average precision: {avgp}\\n\" %(maximum))\n",
    "        print(confusion_matrix(y_test, prediction_val), \"\\n\")\n",
    "\n",
    "get_evaluations_max_leaf_nodes(X_tr, X_test, y_tr, y_test)"
   ]
  },
  {
   "cell_type": "markdown",
   "id": "ecf6a709",
   "metadata": {},
   "source": [
    "# Max depth"
   ]
  },
  {
   "cell_type": "markdown",
   "id": "38037de4",
   "metadata": {},
   "source": [
    "The purpose of this parameter is to get the total number of terminal nodes (leaves) in a tree."
   ]
  },
  {
   "cell_type": "code",
   "execution_count": 27,
   "id": "1cc39647",
   "metadata": {},
   "outputs": [
    {
     "name": "stdout",
     "output_type": "stream",
     "text": [
      "Depth: 3 -> MAE: 0.084375 -> Accuracy score: 0.915625 -> Average precision: 0.208333\n",
      "\n",
      "[[287   3]\n",
      " [ 24   6]] \n",
      "\n",
      "Depth: 5 -> MAE: 0.084375 -> Accuracy score: 0.915625 -> Average precision: 0.351378\n",
      "\n",
      "[[276  14]\n",
      " [ 13  17]] \n",
      "\n",
      "Depth: 10 -> MAE: 0.1 -> Accuracy score: 0.9 -> Average precision: 0.362216\n",
      "\n",
      "[[267  23]\n",
      " [  9  21]] \n",
      "\n",
      "Depth: 15 -> MAE: 0.1125 -> Accuracy score: 0.8875 -> Average precision: 0.321105\n",
      "\n",
      "[[264  26]\n",
      " [ 10  20]] \n",
      "\n",
      "Depth: 10 -> MAE: 0.125 -> Accuracy score: 0.875 -> Average precision: 0.297917\n",
      "\n",
      "[[260  30]\n",
      " [ 10  20]] \n",
      "\n",
      "Depth: 20 -> MAE: 0.1125 -> Accuracy score: 0.8875 -> Average precision: 0.334375\n",
      "\n",
      "[[263  27]\n",
      " [  9  21]] \n",
      "\n"
     ]
    }
   ],
   "source": [
    "def get_evaluations_max_depth(X_tr, X_test, y_tr, y_test):  \n",
    "    #list_depths = [5, 10, 20, 30, 40, 50]\n",
    "    list_depths = [3, 5, 10, 15, 10, 20]\n",
    "    \n",
    "    for depth in list_depths: \n",
    "        model = DecisionTreeClassifier(max_depth= depth)\n",
    "        model.fit(X_tr, y_tr)\n",
    "        prediction_val = model.predict(X_test)\n",
    "        mae = mean_absolute_error(y_test, prediction_val)\n",
    "        acc = accuracy_score(y_test, prediction_val)\n",
    "        avgp = round(average_precision_score(y_test, prediction_val), 6)\n",
    "        print(f\"Depth: %s -> MAE: {mae} -> Accuracy score: {acc} -> Average precision: {avgp}\\n\" %(depth))\n",
    "        print(confusion_matrix(y_test, prediction_val), \"\\n\")\n",
    "\n",
    "get_evaluations_max_depth(X_tr, X_test, y_tr, y_test)"
   ]
  },
  {
   "cell_type": "markdown",
   "id": "e3324dc4",
   "metadata": {},
   "source": [
    "Let's combine the best result for the max leaf nodes and max depth! The result looks pretty good."
   ]
  },
  {
   "cell_type": "code",
   "execution_count": 28,
   "id": "2da81ead",
   "metadata": {},
   "outputs": [
    {
     "name": "stdout",
     "output_type": "stream",
     "text": [
      "MAE: 0.084375 -> Accuracy score: 0.915625 -> Average precision: 0.208333\n",
      "\n",
      "[[287   3]\n",
      " [ 24   6]] \n",
      "\n"
     ]
    }
   ],
   "source": [
    "model = DecisionTreeClassifier(max_leaf_nodes=15, max_depth= 3)\n",
    "model.fit(X_tr, y_tr)\n",
    "prediction_val = model.predict(X_test)\n",
    "mae = mean_absolute_error(y_test, prediction_val)\n",
    "acc = accuracy_score(y_test, prediction_val)\n",
    "avgp = round(average_precision_score(y_test, prediction_val), 6)\n",
    "print(f\"MAE: {mae} -> Accuracy score: {acc} -> Average precision: {avgp}\\n\")\n",
    "print(confusion_matrix(y_test, prediction_val), \"\\n\")"
   ]
  },
  {
   "cell_type": "markdown",
   "id": "1c8d42bd",
   "metadata": {},
   "source": [
    "# Max features"
   ]
  },
  {
   "cell_type": "markdown",
   "id": "b3eb7fec",
   "metadata": {},
   "source": [
    "The purpose of this parameter is to get the the number of features considered for splitting a node."
   ]
  },
  {
   "cell_type": "code",
   "execution_count": 29,
   "id": "6072b2af",
   "metadata": {},
   "outputs": [
    {
     "name": "stdout",
     "output_type": "stream",
     "text": [
      "Max features: 2 -> MAE: 0.096875 -> Accuracy score: 0.903125 -> Average precision: 0.342922\n",
      "\n",
      "[[270  20]\n",
      " [ 11  19]] \n",
      "\n",
      "Max features: 3 -> MAE: 0.134375 -> Accuracy score: 0.865625 -> Average precision: 0.23338\n",
      "\n",
      "[[261  29]\n",
      " [ 14  16]] \n",
      "\n",
      "Max features: 4 -> MAE: 0.14375 -> Accuracy score: 0.85625 -> Average precision: 0.233292\n",
      "\n",
      "[[257  33]\n",
      " [ 13  17]] \n",
      "\n",
      "Max features: 5 -> MAE: 0.134375 -> Accuracy score: 0.865625 -> Average precision: 0.174613\n",
      "\n",
      "[[266  24]\n",
      " [ 19  11]] \n",
      "\n",
      "Max features: 6 -> MAE: 0.1375 -> Accuracy score: 0.8625 -> Average precision: 0.229257\n",
      "\n",
      "[[260  30]\n",
      " [ 14  16]] \n",
      "\n",
      "Max features: 7 -> MAE: 0.115625 -> Accuracy score: 0.884375 -> Average precision: 0.249578\n",
      "\n",
      "[[268  22]\n",
      " [ 15  15]] \n",
      "\n",
      "Max features: 8 -> MAE: 0.134375 -> Accuracy score: 0.865625 -> Average precision: 0.24559\n",
      "\n",
      "[[260  30]\n",
      " [ 13  17]] \n",
      "\n",
      "Max features: 9 -> MAE: 0.14375 -> Accuracy score: 0.85625 -> Average precision: 0.209918\n",
      "\n",
      "[[259  31]\n",
      " [ 15  15]] \n",
      "\n",
      "Max features: 10 -> MAE: 0.128125 -> Accuracy score: 0.871875 -> Average precision: 0.305483\n",
      "\n",
      "[[258  32]\n",
      " [  9  21]] \n",
      "\n"
     ]
    }
   ],
   "source": [
    "def get_evaluations_max_features(X_tr, X_test, y_tr, y_test):  \n",
    "    list_features = [2, 3, 4, 5, 6, 7, 8, 9, 10]\n",
    "\n",
    "    for feature in list_features: \n",
    "        model = DecisionTreeClassifier(max_features= feature)\n",
    "        model.fit(X_tr, y_tr)\n",
    "        prediction_val = model.predict(X_test)\n",
    "        mae = mean_absolute_error(y_test, prediction_val)\n",
    "        acc = accuracy_score(y_test, prediction_val)\n",
    "        avgp = round(average_precision_score(y_test, prediction_val), 6)\n",
    "        print(f\"Max features: %s -> MAE: {mae} -> Accuracy score: {acc} -> Average precision: {avgp}\\n\" %(feature))\n",
    "        print(confusion_matrix(y_test, prediction_val), \"\\n\")\n",
    "\n",
    "get_evaluations_max_features(X_tr, X_test, y_tr, y_test)"
   ]
  },
  {
   "cell_type": "markdown",
   "id": "a0a2b716",
   "metadata": {},
   "source": [
    "# Model with optimized parameters"
   ]
  },
  {
   "cell_type": "markdown",
   "id": "abd1d793",
   "metadata": {},
   "source": [
    "We are all waiting for the result! Let's get the result from the model with default parameters first."
   ]
  },
  {
   "cell_type": "code",
   "execution_count": 30,
   "id": "17c2d79f",
   "metadata": {},
   "outputs": [
    {
     "name": "stdout",
     "output_type": "stream",
     "text": [
      "MAE: 0.121875 \t Accuracy score: 0.878125 \t Average precision: 0.31636\n",
      "\n",
      "[[260  30]\n",
      " [  9  21]] \n",
      "\n"
     ]
    }
   ],
   "source": [
    "model = DecisionTreeClassifier()\n",
    "model.fit(X_tr, y_tr)\n",
    "prediction_val = model.predict(X_test)\n",
    "mae = mean_absolute_error(y_test, prediction_val)\n",
    "acc = accuracy_score(y_test, prediction_val)\n",
    "avgp = round(average_precision_score(y_test, prediction_val), 6)\n",
    "print(f\"MAE: {mae} \\t Accuracy score: {acc} \\t Average precision: {avgp}\\n\")\n",
    "print(confusion_matrix(y_test, prediction_val), \"\\n\")"
   ]
  },
  {
   "cell_type": "code",
   "execution_count": 31,
   "id": "12fbfeb6",
   "metadata": {},
   "outputs": [
    {
     "name": "stdout",
     "output_type": "stream",
     "text": [
      "MAE: 0.08125 \t Accuracy score: 0.91875 \t Average precision: 0.246528\n",
      "\n",
      "[[286   4]\n",
      " [ 22   8]] \n",
      "\n"
     ]
    }
   ],
   "source": [
    "model = DecisionTreeClassifier(max_leaf_nodes=15, max_depth= 3, max_features=7)\n",
    "model.fit(X_tr, y_tr)\n",
    "prediction_val = model.predict(X_test)\n",
    "mae = mean_absolute_error(y_test, prediction_val)\n",
    "acc = accuracy_score(y_test, prediction_val)\n",
    "avgp = round(average_precision_score(y_test, prediction_val), 6)\n",
    "print(f\"MAE: {mae} \\t Accuracy score: {acc} \\t Average precision: {avgp}\\n\")\n",
    "print(confusion_matrix(y_test, prediction_val), \"\\n\")"
   ]
  },
  {
   "cell_type": "markdown",
   "id": "d5e0059b",
   "metadata": {},
   "source": [
    "* [x] The model looks better like that. The confusion matrix shows a better ratio. The mae decreased and the accuracy score increased which means that the model is optimized."
   ]
  },
  {
   "cell_type": "markdown",
   "id": "a0c7a23f",
   "metadata": {},
   "source": [
    "# Random Forest Classifier"
   ]
  },
  {
   "cell_type": "markdown",
   "id": "32d3198a",
   "metadata": {},
   "source": [
    "The second model that I will use is the Random Forest Classifier. There are various reasons why I decided to choose this model. First of all it is an ensemble of decision tree algorithms. It means that this model is better than a single decision tree, because it reduces the overfitting by averaging the result. Furthermore the Random Forest Classifier is less influenced by outliers than other algorithms which results in higher accuracy. Lastly, this model works well with default parameters."
   ]
  },
  {
   "cell_type": "markdown",
   "id": "31a289e0",
   "metadata": {},
   "source": [
    "# Hyperparameter tuning process"
   ]
  },
  {
   "cell_type": "markdown",
   "id": "91f54a0a",
   "metadata": {},
   "source": [
    "During the hyperparameter tuning process I'll tune following parameters:\n",
    "\n",
    "* max_depth: Indicates how deep the tree can be\n",
    "    \n",
    "* n_estimators: Total number of trees in the forest\n",
    "    \n",
    "* max_features: The number of features considered for splitting a node"
   ]
  },
  {
   "cell_type": "markdown",
   "id": "e47e158a",
   "metadata": {},
   "source": [
    "# Max depth"
   ]
  },
  {
   "cell_type": "code",
   "execution_count": 34,
   "id": "272edabb",
   "metadata": {},
   "outputs": [
    {
     "name": "stdout",
     "output_type": "stream",
     "text": [
      "Depth: 3 -> MAE: 0.075 -> Accuracy score: 0.925 -> Average precision: 0.282083\n",
      "\n",
      "[[288   2]\n",
      " [ 22   8]] \n",
      "\n",
      "Depth: 5 -> MAE: 0.06875 -> Accuracy score: 0.93125 -> Average precision: 0.35625\n",
      "\n",
      "[[286   4]\n",
      " [ 18  12]] \n",
      "\n",
      "Depth: 10 -> MAE: 0.059375 -> Accuracy score: 0.940625 -> Average precision: 0.450099\n",
      "\n",
      "[[285   5]\n",
      " [ 14  16]] \n",
      "\n",
      "Depth: 15 -> MAE: 0.065625 -> Accuracy score: 0.934375 -> Average precision: 0.414764\n",
      "\n",
      "[[283   7]\n",
      " [ 14  16]] \n",
      "\n",
      "Depth: 10 -> MAE: 0.065625 -> Accuracy score: 0.934375 -> Average precision: 0.404018\n",
      "\n",
      "[[284   6]\n",
      " [ 15  15]] \n",
      "\n",
      "Depth: 20 -> MAE: 0.071875 -> Accuracy score: 0.928125 -> Average precision: 0.385083\n",
      "\n",
      "[[281   9]\n",
      " [ 14  16]] \n",
      "\n"
     ]
    }
   ],
   "source": [
    "def get_evaluations_max_depth_rf(X_tr, X_test, y_tr, y_test):  \n",
    "    #list_depths = [5, 10, 20, 30, 40, 50]\n",
    "    list_depths = [3, 5, 10, 15, 10, 20]\n",
    "    \n",
    "    for depth in list_depths: \n",
    "        model = RandomForestClassifier(max_depth= depth)\n",
    "        model.fit(X_tr, y_tr)\n",
    "        prediction_val = model.predict(X_test)\n",
    "        mae = mean_absolute_error(y_test, prediction_val)\n",
    "        acc = accuracy_score(y_test, prediction_val)\n",
    "        avgp = round(average_precision_score(y_test, prediction_val), 6)\n",
    "        print(f\"Depth: %s -> MAE: {mae} -> Accuracy score: {acc} -> Average precision: {avgp}\\n\" %(depth))\n",
    "        print(confusion_matrix(y_test, prediction_val), \"\\n\")\n",
    "\n",
    "get_evaluations_max_depth_rf(X_tr, X_test, y_tr, y_test)"
   ]
  },
  {
   "cell_type": "markdown",
   "id": "45a1b227",
   "metadata": {},
   "source": [
    "# N estimators"
   ]
  },
  {
   "cell_type": "code",
   "execution_count": 35,
   "id": "80e130ad",
   "metadata": {},
   "outputs": [
    {
     "name": "stdout",
     "output_type": "stream",
     "text": [
      "N estimators: 35 -> MAE: 0.08125 -> Accuracy score: 0.91875 -> Average precision: 0.309186  \n",
      "\n",
      "[[281   9]\n",
      " [ 17  13]] \n",
      "\n",
      "N estimators: 40 -> MAE: 0.059375 -> Accuracy score: 0.940625 -> Average precision: 0.450099  \n",
      "\n",
      "[[285   5]\n",
      " [ 14  16]] \n",
      "\n",
      "N estimators: 45 -> MAE: 0.075 -> Accuracy score: 0.925 -> Average precision: 0.359375  \n",
      "\n",
      "[[281   9]\n",
      " [ 15  15]] \n",
      "\n",
      "N estimators: 50 -> MAE: 0.071875 -> Accuracy score: 0.928125 -> Average precision: 0.361111  \n",
      "\n",
      "[[283   7]\n",
      " [ 16  14]] \n",
      "\n",
      "N estimators: 60 -> MAE: 0.065625 -> Accuracy score: 0.934375 -> Average precision: 0.414764  \n",
      "\n",
      "[[283   7]\n",
      " [ 14  16]] \n",
      "\n",
      "N estimators: 70 -> MAE: 0.05 -> Accuracy score: 0.95 -> Average precision: 0.544071  \n",
      "\n",
      "[[284   6]\n",
      " [ 10  20]] \n",
      "\n",
      "N estimators: 80 -> MAE: 0.08125 -> Accuracy score: 0.91875 -> Average precision: 0.335337  \n",
      "\n",
      "[[279  11]\n",
      " [ 15  15]] \n",
      "\n",
      "N estimators: 90 -> MAE: 0.0625 -> Accuracy score: 0.9375 -> Average precision: 0.431629  \n",
      "\n",
      "[[284   6]\n",
      " [ 14  16]] \n",
      "\n",
      "N estimators: 100 -> MAE: 0.065625 -> Accuracy score: 0.934375 -> Average precision: 0.39386  \n",
      "\n",
      "[[285   5]\n",
      " [ 16  14]] \n",
      "\n"
     ]
    }
   ],
   "source": [
    "def get_evaluations_n_estimators_rf(X_tr, X_test, y_tr, y_test):  \n",
    "    list_n = [35, 40, 45, 50, 60, 70, 80, 90, 100]\n",
    "    #list_n = [5, 10, 20, 30, 40, 50]\n",
    "    #list_n = [3, 5, 10, 15, 10, 20]\n",
    "    \n",
    "    for n in list_n: \n",
    "        model = RandomForestClassifier(n_estimators= n)\n",
    "        model.fit(X_tr, y_tr)\n",
    "        prediction_val = model.predict(X_test)\n",
    "        mae = mean_absolute_error(y_test, prediction_val)\n",
    "        acc = accuracy_score(y_test, prediction_val)\n",
    "        avgp = round(average_precision_score(y_test, prediction_val), 6)\n",
    "        print(f\"N estimators: %s -> MAE: {mae} -> Accuracy score: {acc} -> Average precision: {avgp}  \\n\" %(n))\n",
    "        print(confusion_matrix(y_test, prediction_val), \"\\n\")\n",
    "\n",
    "get_evaluations_n_estimators_rf(X_tr, X_test, y_tr, y_test)"
   ]
  },
  {
   "cell_type": "markdown",
   "id": "d07bc9c2",
   "metadata": {},
   "source": [
    "# Max features"
   ]
  },
  {
   "cell_type": "code",
   "execution_count": 36,
   "id": "a4e24d86",
   "metadata": {},
   "outputs": [
    {
     "name": "stdout",
     "output_type": "stream",
     "text": [
      "Max features: 2 -> MAE: 0.0625 -> Accuracy score: 0.9375 -> -> Average precision: 0.412963 \n",
      "\n",
      "[[286   4]\n",
      " [ 16  14]] \n",
      "\n",
      "Max features: 3 -> MAE: 0.071875 -> Accuracy score: 0.928125 -> -> Average precision: 0.361111 \n",
      "\n",
      "[[283   7]\n",
      " [ 16  14]] \n",
      "\n",
      "Max features: 4 -> MAE: 0.059375 -> Accuracy score: 0.940625 -> -> Average precision: 0.441612 \n",
      "\n",
      "[[286   4]\n",
      " [ 15  15]] \n",
      "\n",
      "Max features: 5 -> MAE: 0.075 -> Accuracy score: 0.925 -> -> Average precision: 0.384673 \n",
      "\n",
      "[[279  11]\n",
      " [ 13  17]] \n",
      "\n",
      "Max features: 6 -> MAE: 0.0625 -> Accuracy score: 0.9375 -> -> Average precision: 0.431629 \n",
      "\n",
      "[[284   6]\n",
      " [ 14  16]] \n",
      "\n",
      "Max features: 7 -> MAE: 0.078125 -> Accuracy score: 0.921875 -> -> Average precision: 0.359799 \n",
      "\n",
      "[[279  11]\n",
      " [ 14  16]] \n",
      "\n",
      "Max features: 8 -> MAE: 0.08125 -> Accuracy score: 0.91875 -> -> Average precision: 0.335337 \n",
      "\n",
      "[[279  11]\n",
      " [ 15  15]] \n",
      "\n",
      "Max features: 9 -> MAE: 0.065625 -> Accuracy score: 0.934375 -> -> Average precision: 0.4375 \n",
      "\n",
      "[[281   9]\n",
      " [ 12  18]] \n",
      "\n",
      "Max features: 10 -> MAE: 0.071875 -> Accuracy score: 0.928125 -> -> Average precision: 0.397415 \n",
      "\n",
      "[[280  10]\n",
      " [ 13  17]] \n",
      "\n"
     ]
    }
   ],
   "source": [
    "def get_evaluations_max_features_rf(X_tr, X_test, y_tr, y_test):  \n",
    "    list_features = [2, 3, 4, 5, 6, 7, 8, 9, 10]\n",
    "\n",
    "    for feature in list_features: \n",
    "        model = RandomForestClassifier(max_features= feature)\n",
    "        model.fit(X_tr, y_tr)\n",
    "        prediction_val = model.predict(X_test)\n",
    "        mae = mean_absolute_error(y_test, prediction_val)\n",
    "        acc = accuracy_score(y_test, prediction_val)\n",
    "        avgp = round(average_precision_score(y_test, prediction_val), 6)\n",
    "        print(f\"Max features: %s -> MAE: {mae} -> Accuracy score: {acc} -> -> Average precision: {avgp} \\n\" %(feature))\n",
    "        print(confusion_matrix(y_test, prediction_val), \"\\n\")\n",
    "\n",
    "get_evaluations_max_features_rf(X_tr, X_test, y_tr, y_test)"
   ]
  },
  {
   "cell_type": "markdown",
   "id": "1a02dfc2",
   "metadata": {},
   "source": [
    "# Model with optimized parameters"
   ]
  },
  {
   "cell_type": "code",
   "execution_count": 37,
   "id": "3c2496c3",
   "metadata": {},
   "outputs": [
    {
     "name": "stdout",
     "output_type": "stream",
     "text": [
      "MAE: 0.08125 \t Accuracy score: 0.91875 \t Average precision: 0.335337\n",
      "\n",
      "[[279  11]\n",
      " [ 15  15]] \n",
      "\n"
     ]
    }
   ],
   "source": [
    "model = RandomForestClassifier()\n",
    "model.fit(X_tr, y_tr)\n",
    "prediction_val = model.predict(X_test)\n",
    "mae = mean_absolute_error(y_test, prediction_val)\n",
    "acc = accuracy_score(y_test, prediction_val)\n",
    "avgp = round(average_precision_score(y_test, prediction_val), 6)\n",
    "print(f\"MAE: {mae} \\t Accuracy score: {acc} \\t Average precision: {avgp}\\n\")\n",
    "print(confusion_matrix(y_test, prediction_val), \"\\n\")"
   ]
  },
  {
   "cell_type": "code",
   "execution_count": 38,
   "id": "222088c0",
   "metadata": {},
   "outputs": [
    {
     "name": "stdout",
     "output_type": "stream",
     "text": [
      "MAE: 0.06875 \t Accuracy score: 0.91875 \t Average precision: 0.423214\n",
      "\n",
      "[[280  10]\n",
      " [ 12  18]] \n",
      "\n"
     ]
    }
   ],
   "source": [
    "model = RandomForestClassifier(max_depth=15, n_estimators= 35, max_features=9)\n",
    "model.fit(X_tr, y_tr)\n",
    "prediction_val = model.predict(X_test)\n",
    "mae = mean_absolute_error(y_test, prediction_val)\n",
    "avgp = round(average_precision_score(y_test, prediction_val), 6)\n",
    "print(f\"MAE: {mae} \\t Accuracy score: {acc} \\t Average precision: {avgp}\\n\")\n",
    "print(confusion_matrix(y_test, prediction_val), \"\\n\")"
   ]
  },
  {
   "cell_type": "markdown",
   "id": "f074b6ec",
   "metadata": {},
   "source": [
    "# K-Nearest Neighbors"
   ]
  },
  {
   "cell_type": "markdown",
   "id": "9ac94e27",
   "metadata": {},
   "source": [
    "The last ML model that I will use is the K-Nearest Neighbors. The reason behind this choice is purely out of curiosity to see the perfomance of this model. This model requires direcly observing of the training data elements at evaluation time which leads to slower performance."
   ]
  },
  {
   "cell_type": "markdown",
   "id": "6b8b1f97",
   "metadata": {},
   "source": [
    "# Hyperparameter tuning process"
   ]
  },
  {
   "cell_type": "markdown",
   "id": "fb884218",
   "metadata": {},
   "source": [
    "During the hyperparameter tuning process I'll tune following parameters:\n",
    "\n",
    "* n_neighbors: Number of neighbors to use by default for kneighbors queries\n",
    "    \n",
    "* n_jobs: The number of parallel jobs to run neighbors search.\n",
    "    \n",
    "* weights: Weight function used in prediction.\n",
    "    \n",
    "* Uniform: All points in each neighborhood are weighted equally\n",
    "    \n",
    "* Distance: Weight points by the inverse of their distance. Closer neighbors of a query point will have a greater influence than neighbors which are further away"
   ]
  },
  {
   "cell_type": "markdown",
   "id": "fed2af22",
   "metadata": {},
   "source": [
    "# N neighbors"
   ]
  },
  {
   "cell_type": "code",
   "execution_count": 39,
   "id": "84ab640b",
   "metadata": {},
   "outputs": [
    {
     "name": "stdout",
     "output_type": "stream",
     "text": [
      "N neighbor: 2 -> MAE: 0.065625 -> Accuracy score: 0.934375 -> Average precision: 0.414764 \n",
      "\n",
      "[[283   7]\n",
      " [ 14  16]] \n",
      "\n",
      "N neighbor: 10 -> MAE: 0.103125 -> Accuracy score: 0.896875 -> Average precision: 0.194196 \n",
      "\n",
      "[[278  12]\n",
      " [ 21   9]] \n",
      "\n",
      "N neighbor: 35 -> MAE: 0.08125 -> Accuracy score: 0.91875 -> Average precision: 0.309186 \n",
      "\n",
      "[[281   9]\n",
      " [ 17  13]] \n",
      "\n",
      "N neighbor: 50 -> MAE: 0.08125 -> Accuracy score: 0.91875 -> Average precision: 0.270833 \n",
      "\n",
      "[[284   6]\n",
      " [ 20  10]] \n",
      "\n",
      "N neighbor: 80 -> MAE: 0.0875 -> Accuracy score: 0.9125 -> Average precision: 0.207986 \n",
      "\n",
      "[[285   5]\n",
      " [ 23   7]] \n",
      "\n",
      "N neighbor: 90 -> MAE: 0.084375 -> Accuracy score: 0.915625 -> Average precision: 0.22036 \n",
      "\n",
      "[[286   4]\n",
      " [ 23   7]] \n",
      "\n",
      "N neighbor: 100 -> MAE: 0.078125 -> Accuracy score: 0.921875 -> Average precision: 0.253356 \n",
      "\n",
      "[[288   2]\n",
      " [ 23   7]] \n",
      "\n"
     ]
    }
   ],
   "source": [
    "def get_evaluations_n_neighbors(X_tr, X_test, y_tr, y_test):  \n",
    "    list_neighbors = [2, 10, 35, 50, 80, 90, 100]\n",
    "\n",
    "    for neighbor in list_neighbors: \n",
    "        model = KNeighborsClassifier(n_neighbors= neighbor)\n",
    "        model.fit(X_tr, y_tr)\n",
    "        prediction_val = model.predict(X_test)\n",
    "        mae = mean_absolute_error(y_test, prediction_val)\n",
    "        acc = accuracy_score(y_test, prediction_val)\n",
    "        avgp = round(average_precision_score(y_test, prediction_val), 6)\n",
    "        print(f\"N neighbor: %s -> MAE: {mae} -> Accuracy score: {acc} -> Average precision: {avgp} \\n\" %(neighbor))\n",
    "        print(confusion_matrix(y_test, prediction_val), \"\\n\")\n",
    "\n",
    "get_evaluations_n_neighbors(X_tr, X_test, y_tr, y_test)"
   ]
  },
  {
   "cell_type": "markdown",
   "id": "ea8307ee",
   "metadata": {},
   "source": [
    "# N jobs"
   ]
  },
  {
   "cell_type": "code",
   "execution_count": 41,
   "id": "fc808fc8",
   "metadata": {},
   "outputs": [
    {
     "name": "stdout",
     "output_type": "stream",
     "text": [
      "N jobs: 2 -> MAE: 0.1 -> Accuracy score: 0.9 -> Average precision: 0.29473\n",
      "\n",
      "[[272  18]\n",
      " [ 14  16]] \n",
      "\n",
      "N jobs: 3 -> MAE: 0.1 -> Accuracy score: 0.9 -> Average precision: 0.29473\n",
      "\n",
      "[[272  18]\n",
      " [ 14  16]] \n",
      "\n",
      "N jobs: 4 -> MAE: 0.1 -> Accuracy score: 0.9 -> Average precision: 0.29473\n",
      "\n",
      "[[272  18]\n",
      " [ 14  16]] \n",
      "\n",
      "N jobs: 5 -> MAE: 0.1 -> Accuracy score: 0.9 -> Average precision: 0.29473\n",
      "\n",
      "[[272  18]\n",
      " [ 14  16]] \n",
      "\n",
      "N jobs: 6 -> MAE: 0.1 -> Accuracy score: 0.9 -> Average precision: 0.29473\n",
      "\n",
      "[[272  18]\n",
      " [ 14  16]] \n",
      "\n",
      "N jobs: 7 -> MAE: 0.1 -> Accuracy score: 0.9 -> Average precision: 0.29473\n",
      "\n",
      "[[272  18]\n",
      " [ 14  16]] \n",
      "\n",
      "N jobs: 8 -> MAE: 0.1 -> Accuracy score: 0.9 -> Average precision: 0.29473\n",
      "\n",
      "[[272  18]\n",
      " [ 14  16]] \n",
      "\n",
      "N jobs: 9 -> MAE: 0.1 -> Accuracy score: 0.9 -> Average precision: 0.29473\n",
      "\n",
      "[[272  18]\n",
      " [ 14  16]] \n",
      "\n",
      "N jobs: 100 -> MAE: 0.1 -> Accuracy score: 0.9 -> Average precision: 0.29473\n",
      "\n",
      "[[272  18]\n",
      " [ 14  16]] \n",
      "\n"
     ]
    }
   ],
   "source": [
    "def get_evaluations_n_jobs(X_tr, X_test, y_tr, y_test):  \n",
    "    list_jobs = [2, 3, 4, 5, 6, 7, 8, 9, 100]\n",
    "\n",
    "    for job in list_jobs: \n",
    "        model = KNeighborsClassifier(n_jobs= job)\n",
    "        model.fit(X_tr, y_tr)\n",
    "        prediction_val = model.predict(X_test)\n",
    "        mae = mean_absolute_error(y_test, prediction_val)\n",
    "        acc = accuracy_score(y_test, prediction_val)\n",
    "        avgp = round(average_precision_score(y_test, prediction_val), 6)\n",
    "        print(f\"N jobs: %s -> MAE: {mae} -> Accuracy score: {acc} -> Average precision: {avgp}\\n\" %(job))\n",
    "        print(confusion_matrix(y_test, prediction_val), \"\\n\")\n",
    "\n",
    "get_evaluations_n_jobs(X_tr, X_test, y_tr, y_test)"
   ]
  },
  {
   "cell_type": "markdown",
   "id": "e0c36ef9",
   "metadata": {},
   "source": [
    "# Weights"
   ]
  },
  {
   "cell_type": "code",
   "execution_count": 42,
   "id": "0aa9cf35",
   "metadata": {},
   "outputs": [
    {
     "name": "stdout",
     "output_type": "stream",
     "text": [
      "Weight: distance -> MAE: 0.075 -> Accuracy score: 0.925 -> Average precision: 0.436458 \n",
      "\n",
      "[[275  15]\n",
      " [  9  21]] \n",
      "\n",
      "Weight: uniform -> MAE: 0.1 -> Accuracy score: 0.9 -> Average precision: 0.29473 \n",
      "\n",
      "[[272  18]\n",
      " [ 14  16]] \n",
      "\n"
     ]
    }
   ],
   "source": [
    "def get_evaluations_weights(X_tr, X_test, y_tr, y_test):  \n",
    "    list_weights = [\"distance\", \"uniform\"]\n",
    "\n",
    "    for weight in list_weights: \n",
    "        model = KNeighborsClassifier(weights= weight)\n",
    "        model.fit(X_tr, y_tr)\n",
    "        prediction_val = model.predict(X_test)\n",
    "        mae = mean_absolute_error(y_test, prediction_val)\n",
    "        acc = accuracy_score(y_test, prediction_val)\n",
    "        avgp = round(average_precision_score(y_test, prediction_val), 6)\n",
    "        print(f\"Weight: %s -> MAE: {mae} -> Accuracy score: {acc} -> Average precision: {avgp} \\n\" %(weight))\n",
    "        print(confusion_matrix(y_test, prediction_val), \"\\n\")\n",
    "\n",
    "get_evaluations_weights(X_tr, X_test, y_tr, y_test)"
   ]
  },
  {
   "cell_type": "markdown",
   "id": "611fa64b",
   "metadata": {},
   "source": [
    "# Model with optimized parameters"
   ]
  },
  {
   "cell_type": "code",
   "execution_count": 43,
   "id": "cc0e14a1",
   "metadata": {},
   "outputs": [
    {
     "name": "stdout",
     "output_type": "stream",
     "text": [
      "MAE: 0.078125 -> Accuracy score: 0.921875 -> Average precision: 0.321379\n",
      "\n",
      "[[282   8]\n",
      " [ 17  13]] \n",
      "\n"
     ]
    }
   ],
   "source": [
    "model = KNeighborsClassifier(n_neighbors=35, weights=\"distance\")\n",
    "model.fit(X_tr, y_tr)\n",
    "prediction_val = model.predict(X_test)\n",
    "mae = mean_absolute_error(y_test, prediction_val)\n",
    "acc = accuracy_score(y_test, prediction_val)\n",
    "avgp = round(average_precision_score(y_test, prediction_val), 6)        \n",
    "print(f\"MAE: {mae} -> Accuracy score: {acc} -> Average precision: {avgp}\\n\")\n",
    "print(confusion_matrix(y_test, prediction_val), \"\\n\")"
   ]
  },
  {
   "cell_type": "markdown",
   "id": "d1cc3c39",
   "metadata": {},
   "source": [
    "# Cross validation"
   ]
  },
  {
   "cell_type": "markdown",
   "id": "4526cc97",
   "metadata": {},
   "source": [
    "Cross validation consists in training and then validating our model on several possible cuts of the train set. For example, if we cut our train set into 5 parts, we can train our model on 4 parts and then validate it on the 5th. After this stepp we will redo all this for all the possible configurations. In the end, we will take the average of the 5 scores. Between two models we can therefore choose the best one by taking the average of each model with the cross validation.\n",
    "\n",
    "\n",
    "\n",
    "One of the best way of cross validating your model is by using GridSearchCV. It builds a model grid with all the combinations of hyperparameters present in param_grid. I wrote the code for the GridSearchCV, but didn't get any result printed, because it takes a lot of time before revealing the values."
   ]
  },
  {
   "cell_type": "markdown",
   "id": "04db473f",
   "metadata": {},
   "source": [
    "# Average precision"
   ]
  },
  {
   "cell_type": "code",
   "execution_count": 44,
   "id": "a20e2430",
   "metadata": {},
   "outputs": [
    {
     "name": "stdout",
     "output_type": "stream",
     "text": [
      "Decision Tree: 0.3682367986710851 \n"
     ]
    }
   ],
   "source": [
    "cvs_dt = cross_val_score(DecisionTreeClassifier(max_leaf_nodes=15, max_depth= 2, max_features=10), X_tr, y_tr, cv=5, scoring=\"average_precision\").mean()\n",
    "print(f\"Decision Tree: {cvs_dt} \")"
   ]
  },
  {
   "cell_type": "code",
   "execution_count": 45,
   "id": "ef39fc67",
   "metadata": {},
   "outputs": [
    {
     "name": "stdout",
     "output_type": "stream",
     "text": [
      "Random Forest: 0.6637534311657977 \n"
     ]
    }
   ],
   "source": [
    "cvs_rf = cross_val_score(RandomForestClassifier(max_depth=15, n_estimators= 35, max_features=9), X_tr, y_tr, cv=5, scoring=\"average_precision\").mean()\n",
    "print(f\"Random Forest: {cvs_rf} \")"
   ]
  },
  {
   "cell_type": "code",
   "execution_count": 46,
   "id": "6d4b06d8",
   "metadata": {},
   "outputs": [
    {
     "name": "stdout",
     "output_type": "stream",
     "text": [
      "K-Nearest Neighbors: 0.6949513904541312\n"
     ]
    }
   ],
   "source": [
    "cvs_knn = cross_val_score(KNeighborsClassifier(n_neighbors=35, weights=\"distance\"), X_tr, y_tr, cv=5, scoring=\"average_precision\").mean()\n",
    "print(f\"K-Nearest Neighbors: {cvs_knn}\")"
   ]
  },
  {
   "cell_type": "markdown",
   "id": "5752f8ae",
   "metadata": {},
   "source": [
    "# Accuracy"
   ]
  },
  {
   "cell_type": "code",
   "execution_count": 47,
   "id": "21c3dacd",
   "metadata": {},
   "outputs": [
    {
     "name": "stdout",
     "output_type": "stream",
     "text": [
      "Decision Tree: 0.8569485294117648 \n"
     ]
    }
   ],
   "source": [
    "cvs_dt = cross_val_score(DecisionTreeClassifier(max_leaf_nodes=15, max_depth= 2, max_features=10), X_tr, y_tr, cv=5, scoring=\"accuracy\").mean()\n",
    "print(f\"Decision Tree: {cvs_dt} \")"
   ]
  },
  {
   "cell_type": "code",
   "execution_count": 48,
   "id": "26685240",
   "metadata": {},
   "outputs": [
    {
     "name": "stdout",
     "output_type": "stream",
     "text": [
      "Random Forest: 0.8975980392156864 \n"
     ]
    }
   ],
   "source": [
    "cvs_rf = cross_val_score(RandomForestClassifier(max_depth=15, n_estimators= 35, max_features=9), X_tr, y_tr, cv=5, scoring=\"accuracy\").mean()\n",
    "print(f\"Random Forest: {cvs_rf} \")"
   ]
  },
  {
   "cell_type": "code",
   "execution_count": 49,
   "id": "ca23f12a",
   "metadata": {},
   "outputs": [
    {
     "name": "stdout",
     "output_type": "stream",
     "text": [
      "K-Nearest Neighbors: 0.8905484068627452\n"
     ]
    }
   ],
   "source": [
    "cvs_knn = cross_val_score(KNeighborsClassifier(n_neighbors=35, weights=\"distance\"), X_tr, y_tr, cv=5, scoring=\"accuracy\").mean()\n",
    "print(f\"K-Nearest Neighbors: {cvs_knn}\")"
   ]
  },
  {
   "cell_type": "markdown",
   "id": "655c889f",
   "metadata": {},
   "source": [
    "The Scikit-learn documentation explains that there are different approaches to assess the quality of a model's predictions. So I evaluated my models based on these APIs.\n",
    "\n",
    "First, I've used metric functions which assesses a prediction error for specific purposes. Various metrics were used, such as:\n",
    "\n",
    "* Classification metrics: Average precision, Accuracy and Confusion Matrix\n",
    "    \n",
    "* Regression metrics: Mean Absolute Error\n",
    "    \n",
    "I started with an implementation that used the default parameters. This gave me a baseline to be able to compare with my future results. During this phase, I was able to conclude that some models performed better than others.\n",
    "\n",
    "The Random Forest Classifier and the K Nearest Neighbors had a better score than the Decision Tree Classifier. However Random Forest performs better than the K Nearest Neighbor. These were the results that were generated using the default parameters.\n",
    "\n",
    "\n",
    "1.DecisionTreeClassifier\n",
    "\n",
    "MAE: 0.121875 -> Accuracy score: 0.878125 -> Average precision: 0.303359\n",
    "            \n",
    "[[261  29] [ 10  20]]\n",
    "\n",
    "\n",
    "2.RandomForestClassifier\n",
    "MAE: 0.0625 -> Accuracy score: 0.9375 -> Average precision: 0.431629\n",
    "            \n",
    "\n",
    "[[284   6][ 14  16]] \n",
    "\n",
    "\n",
    "3.KNeighborsClassifier\n",
    "\n",
    "MAE: 0.1 -> Accuracy score: 0.9 -> Average precision: 0.29473\n",
    "[[272  18][ 14  16]]\n",
    "\n",
    "\n"
   ]
  },
  {
   "cell_type": "markdown",
   "id": "549ce372",
   "metadata": {},
   "source": [
    "After the process of using the default parameters. I tried to optimize my models using hyperparameter tuning. I decided to choose 3 parameters, by reading the Scikit-learn documentation, for each model. As you have certainly seen, this hypertuning process really helped me optimize my models. These were the results that were generated using the optimized parameters.\n",
    "\n",
    "1.DecisionTreeClassifier\n",
    "\n",
    "MAE: 0.09375 \t Accuracy score: 0.90625 \n",
    "        \n",
    "[[283   7][ 23   7]] \n",
    "\n",
    "2.RandomForestClassifier\n",
    "\n",
    "MAE: 0.071875 \t Accuracy score: 0.928125 \n",
    "\n",
    "[[281   9][ 14  16]] \n",
    "\n",
    "\n",
    "3.KNeighborsClassifier\n",
    "\n",
    "MAE: 0.078125 -> Accuracy score: 0.921875 \n",
    "    \n",
    "[[282   8][ 17  13]] \n",
    "\n"
   ]
  },
  {
   "cell_type": "markdown",
   "id": "86381bf6",
   "metadata": {},
   "source": [
    "The second and last approach that I've used to assess the quality of my model's predictions is the scoring parameter which is a tool that uses cross validation. For that part, I implemented the cross_val_score() function which evaluates the score by cross-validation.\n",
    "\n",
    "The cross validation was not what I expected. I thought that by using the best values for my hyperparameters, I would have a better accuracy. Unfortunately there is only my average precision which has improved very well. I think this is not a bad sign. Also I noticed that my accuracy increased during cross validation by changing the values of my parameters again."
   ]
  },
  {
   "cell_type": "markdown",
   "id": "730a65f9",
   "metadata": {},
   "source": [
    "# Results models with optimized parameters"
   ]
  },
  {
   "cell_type": "markdown",
   "id": "5921bfa7",
   "metadata": {},
   "source": [
    "# Decision Tree Classifier"
   ]
  },
  {
   "cell_type": "code",
   "execution_count": 50,
   "id": "904dc645",
   "metadata": {},
   "outputs": [
    {
     "name": "stdout",
     "output_type": "stream",
     "text": [
      "MAE: 0.09375 \t Accuracy score: 0.90625 \n",
      "\n",
      "[[283   7]\n",
      " [ 23   7]] \n",
      "\n"
     ]
    }
   ],
   "source": [
    "model = DecisionTreeClassifier(max_leaf_nodes=15, max_depth= 3, max_features=7)\n",
    "model.fit(X_tr, y_tr)\n",
    "prediction_val = model.predict(X_test)\n",
    "mae = mean_absolute_error(y_test, prediction_val)\n",
    "acc = accuracy_score(y_test, prediction_val)\n",
    "print(f\"MAE: {mae} \\t Accuracy score: {acc} \\n\")\n",
    "print(confusion_matrix(y_test, prediction_val), \"\\n\")"
   ]
  },
  {
   "cell_type": "markdown",
   "id": "c79e4075",
   "metadata": {},
   "source": [
    "# Random Forest Classifier"
   ]
  },
  {
   "cell_type": "code",
   "execution_count": 51,
   "id": "1eb94e2a",
   "metadata": {},
   "outputs": [
    {
     "name": "stdout",
     "output_type": "stream",
     "text": [
      "MAE: 0.071875 \t Accuracy score: 0.928125 \n",
      "\n",
      "[[281   9]\n",
      " [ 14  16]] \n",
      "\n"
     ]
    }
   ],
   "source": [
    "model = RandomForestClassifier(max_depth=15, n_estimators= 35, max_features=9)\n",
    "model.fit(X_tr, y_tr)\n",
    "prediction_val = model.predict(X_test)\n",
    "mae = mean_absolute_error(y_test, prediction_val)\n",
    "acc = accuracy_score(y_test, prediction_val)\n",
    "print(f\"MAE: {mae} \\t Accuracy score: {acc} \\n\")\n",
    "print(confusion_matrix(y_test, prediction_val), \"\\n\")"
   ]
  },
  {
   "cell_type": "markdown",
   "id": "80e0ad8e",
   "metadata": {},
   "source": [
    "# K-Nearest Neighbors"
   ]
  },
  {
   "cell_type": "code",
   "execution_count": 52,
   "id": "0a6449d7",
   "metadata": {},
   "outputs": [
    {
     "name": "stdout",
     "output_type": "stream",
     "text": [
      "MAE: 0.078125 -> Accuracy score: 0.921875 \n",
      "\n",
      "[[282   8]\n",
      " [ 17  13]] \n",
      "\n"
     ]
    }
   ],
   "source": [
    "model = KNeighborsClassifier(n_neighbors=35, weights=\"distance\")\n",
    "model.fit(X_tr, y_tr)\n",
    "prediction_val = model.predict(X_test)\n",
    "mae = mean_absolute_error(y_test, prediction_val)\n",
    "acc = accuracy_score(y_test, prediction_val)\n",
    "print(f\"MAE: {mae} -> Accuracy score: {acc} \\n\")\n",
    "print(confusion_matrix(y_test, prediction_val), \"\\n\")"
   ]
  },
  {
   "cell_type": "code",
   "execution_count": null,
   "id": "be015de5",
   "metadata": {},
   "outputs": [],
   "source": []
  }
 ],
 "metadata": {
  "kernelspec": {
   "display_name": "Python 3",
   "language": "python",
   "name": "python3"
  },
  "language_info": {
   "codemirror_mode": {
    "name": "ipython",
    "version": 3
   },
   "file_extension": ".py",
   "mimetype": "text/x-python",
   "name": "python",
   "nbconvert_exporter": "python",
   "pygments_lexer": "ipython3",
   "version": "3.8.8"
  }
 },
 "nbformat": 4,
 "nbformat_minor": 5
}
